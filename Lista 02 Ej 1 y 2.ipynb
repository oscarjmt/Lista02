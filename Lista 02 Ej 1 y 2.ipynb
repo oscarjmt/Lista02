{
 "cells": [
  {
   "cell_type": "markdown",
   "id": "46b54114-ba37-4bf7-9f39-446f96f03bc2",
   "metadata": {},
   "source": [
    "# Lista 02\n",
    "### Métodos Numéricos 2 \n",
    "## Ejercicio 1\n",
    "Implemente un algoritmo o funci´on que, dada una matriz A, calcule las siguientes descomposiciones (una funci´on diferente\n",
    "para cada una):\n",
    "#### 1.1 PA=LU"
   ]
  },
  {
   "cell_type": "code",
   "execution_count": 4,
   "id": "7f0fcddd-0d84-4684-8edc-265d20d18291",
   "metadata": {},
   "outputs": [],
   "source": [
    "import numpy as np\n",
    "import scipy.linalg"
   ]
  },
  {
   "cell_type": "code",
   "execution_count": 8,
   "id": "7d7f8be7-8d84-43a3-945b-a0bdf99a3508",
   "metadata": {},
   "outputs": [],
   "source": [
    "def descomposicion_PA_LU(A):\n",
    "    A = A.astype(float)\n",
    "    n = len(A)\n",
    "    L = np.identity(n)\n",
    "    U = A.copy()\n",
    "    P = np.identity(n)\n",
    "\n",
    "    for k in range(n - 1):\n",
    "        # Encontrar el índice del elemento máximo en la columna k (pivoteo parcial)\n",
    "        max_index = np.argmax(np.abs(U[k:, k])) + k\n",
    "\n",
    "        # Intercambiar filas en la matriz de permutación P\n",
    "        P[[k, max_index]] = P[[max_index, k]]\n",
    "\n",
    "        # Intercambiar filas en la matriz U\n",
    "        U[[k, max_index]] = U[[max_index, k]]\n",
    "\n",
    "        # Realizar eliminación gaussiana en U y actualizar L\n",
    "        for i in range(k + 1, n):\n",
    "            factor = U[i, k] / U[k, k]\n",
    "            L[i, k] = factor\n",
    "            U[i, k:] -= factor * U[k, k:]\n",
    "\n",
    "    return P, L, U"
   ]
  },
  {
   "cell_type": "markdown",
   "id": "8aa384b4-413a-4aee-9271-9d6b52737e47",
   "metadata": {},
   "source": [
    "### 1.2 Cholesky"
   ]
  },
  {
   "cell_type": "code",
   "execution_count": 15,
   "id": "5bf4b38e-67d5-4be4-ba30-9edcdad8b325",
   "metadata": {},
   "outputs": [],
   "source": [
    "def es_positivo_definida(A):\n",
    "    valores_propios = np.linalg.eigvals(A)\n",
    "    return all(valores_propios > 0)"
   ]
  },
  {
   "cell_type": "code",
   "execution_count": 11,
   "id": "b99a2866-5852-4deb-bc57-cfae999495b2",
   "metadata": {},
   "outputs": [],
   "source": [
    "def descomposicion_cholesky(A):\n",
    "    if not np.allclose(A, A.T):\n",
    "        raise ValueError(\"La matriz no es simétrica\")\n",
    "    if not es_positivo_definida(A):\n",
    "        raise ValueError(\"Matriz A no es positivo definida.\")\n",
    "    n = len(A)\n",
    "    L = np.zeros_like(A, dtype=float)\n",
    "\n",
    "    for i in range(n):\n",
    "        for j in range(i + 1):\n",
    "            suma = sum(L[i, k] * L[j, k] for k in range(j))\n",
    "            if i == j:\n",
    "                L[i, j] = np.sqrt(A[i, i] - suma)\n",
    "            else:\n",
    "                L[i, j] = (A[i, j] - suma) / L[j, j]\n",
    "    return L"
   ]
  },
  {
   "cell_type": "markdown",
   "id": "63e7e898-b5e3-495c-8057-50302b6e4823",
   "metadata": {},
   "source": [
    "### 1.3 QR"
   ]
  },
  {
   "cell_type": "code",
   "execution_count": 28,
   "id": "60eb6578-372c-4e0f-869b-5c7379bce800",
   "metadata": {},
   "outputs": [],
   "source": [
    "def descomposicion_qr(A):\n",
    "    A = A.astype(float)\n",
    "    m, n = A.shape\n",
    "    Q = np.zeros((m, n))\n",
    "    R = np.zeros((n, n))\n",
    "\n",
    "    for j in range(n):\n",
    "        v = A[:, j].copy()\n",
    "        for i in range(j):\n",
    "            R[i, j] = np.dot(Q[:, i], A[:, j])\n",
    "            v -= R[i, j] * Q[:, i]\n",
    "        R[j, j] = np.linalg.norm(v)\n",
    "        Q[:, j] = v / R[j, j]\n",
    "\n",
    "    return Q, R"
   ]
  },
  {
   "cell_type": "code",
   "execution_count": 5,
   "id": "616044ef-8cc3-4308-aea6-d876cc1fe0ab",
   "metadata": {},
   "outputs": [
    {
     "data": {
      "text/plain": [
       "(array([[1.        , 0.5       , 0.33333333],\n",
       "        [0.5       , 0.33333333, 0.25      ],\n",
       "        [0.33333333, 0.25      , 0.2       ]]),\n",
       " array([[ 1,  1,  0,  3],\n",
       "        [ 2,  1, -1,  1],\n",
       "        [ 3, -1, -1,  2],\n",
       "        [-1,  2,  3, -1]]),\n",
       " array([[ 2, -1,  0,  0],\n",
       "        [-1,  2, -1,  0],\n",
       "        [ 0, -1,  2, -1],\n",
       "        [ 0,  0, -1,  0]]))"
      ]
     },
     "execution_count": 5,
     "metadata": {},
     "output_type": "execute_result"
    }
   ],
   "source": [
    "A = np.array([[1/1, 1/2, 1/3],[1/2, 1/3, 1/4], [1/3, 1/4, 1/5]])\n",
    "B = np.array([[1, 1, 0, 3],[2, 1, -1, 1], [3, -1, -1, 2], [-1, 2, 3, -1]])\n",
    "C = np.array([[2, -1, 0, 0],[-1, 2, -1, 0], [0, -1, 2, -1], [0, 0, -1, 0]])\n",
    "A, B, C"
   ]
  },
  {
   "cell_type": "code",
   "execution_count": 9,
   "id": "3e3877f4-dbc2-4c5a-b096-1925ca5ef544",
   "metadata": {},
   "outputs": [
    {
     "data": {
      "text/plain": [
       "((array([[1., 0., 0.],\n",
       "         [0., 0., 1.],\n",
       "         [0., 1., 0.]]),\n",
       "  array([[1.        , 0.        , 0.        ],\n",
       "         [0.5       , 1.        , 0.        ],\n",
       "         [0.33333333, 1.        , 1.        ]]),\n",
       "  array([[ 1.        ,  0.5       ,  0.33333333],\n",
       "         [ 0.        ,  0.08333333,  0.08888889],\n",
       "         [ 0.        ,  0.        , -0.00555556]])),\n",
       " (array([[0., 0., 1., 0.],\n",
       "         [0., 0., 0., 1.],\n",
       "         [0., 1., 0., 0.],\n",
       "         [1., 0., 0., 0.]]),\n",
       "  array([[ 1.        ,  0.        ,  0.        ,  0.        ],\n",
       "         [ 0.66666667,  1.        ,  0.        ,  0.        ],\n",
       "         [ 0.33333333,  0.8       ,  1.        ,  0.        ],\n",
       "         [-0.33333333,  1.        ,  0.6       ,  1.        ]]),\n",
       "  array([[ 3.00000000e+00, -1.00000000e+00, -1.00000000e+00,\n",
       "           2.00000000e+00],\n",
       "         [ 0.00000000e+00,  1.66666667e+00,  2.66666667e+00,\n",
       "          -3.33333333e-01],\n",
       "         [ 0.00000000e+00,  0.00000000e+00, -3.00000000e+00,\n",
       "           5.55111512e-17],\n",
       "         [ 0.00000000e+00,  0.00000000e+00,  0.00000000e+00,\n",
       "           2.60000000e+00]])),\n",
       " (array([[1., 0., 0., 0.],\n",
       "         [0., 1., 0., 0.],\n",
       "         [0., 0., 1., 0.],\n",
       "         [0., 0., 0., 1.]]),\n",
       "  array([[ 1.        ,  0.        ,  0.        ,  0.        ],\n",
       "         [-0.5       ,  1.        ,  0.        ,  0.        ],\n",
       "         [ 0.        , -0.66666667,  1.        ,  0.        ],\n",
       "         [ 0.        ,  0.        , -0.75      ,  1.        ]]),\n",
       "  array([[ 2.        , -1.        ,  0.        ,  0.        ],\n",
       "         [ 0.        ,  1.5       , -1.        ,  0.        ],\n",
       "         [ 0.        ,  0.        ,  1.33333333, -1.        ],\n",
       "         [ 0.        ,  0.        ,  0.        , -0.75      ]])))"
      ]
     },
     "execution_count": 9,
     "metadata": {},
     "output_type": "execute_result"
    }
   ],
   "source": [
    "descomposicion_PA_LU(A), descomposicion_PA_LU(B), descomposicion_PA_LU(C)"
   ]
  },
  {
   "cell_type": "code",
   "execution_count": 24,
   "id": "b83958e9-999e-4605-8669-00d34e92ed77",
   "metadata": {},
   "outputs": [
    {
     "data": {
      "text/plain": [
       "array([[1.        , 0.        , 0.        ],\n",
       "       [0.5       , 0.28867513, 0.        ],\n",
       "       [0.33333333, 0.28867513, 0.0745356 ]])"
      ]
     },
     "execution_count": 24,
     "metadata": {},
     "output_type": "execute_result"
    }
   ],
   "source": [
    "descomposicion_cholesky(A)"
   ]
  },
  {
   "cell_type": "markdown",
   "id": "44b100d3-5a9d-4918-88d5-8888746e2016",
   "metadata": {},
   "source": [
    "### B y C no son positivamente definidas por lo que no admiten Cholesky"
   ]
  },
  {
   "cell_type": "code",
   "execution_count": 29,
   "id": "fdd1521c-f25d-4da3-a27f-7b3c106b69dc",
   "metadata": {},
   "outputs": [
    {
     "data": {
      "text/plain": [
       "((array([[ 0.85714286, -0.50160492,  0.11704115],\n",
       "         [ 0.42857143,  0.56848557, -0.70224688],\n",
       "         [ 0.28571429,  0.65208639,  0.70224688]]),\n",
       "  array([[1.16666667, 0.64285714, 0.45      ],\n",
       "         [0.        , 0.10171433, 0.10533703],\n",
       "         [0.        , 0.        , 0.00390137]])),\n",
       " (array([[ 2.58198890e-01,  4.36759746e-01, -1.68191983e-01,\n",
       "           8.45154255e-01],\n",
       "         [ 5.16397779e-01,  4.88143246e-01, -4.87756751e-01,\n",
       "          -5.07092553e-01],\n",
       "         [ 7.74596669e-01, -2.31225748e-01,  5.88671940e-01,\n",
       "          -7.57865537e-17],\n",
       "         [-2.58198890e-01,  7.19368994e-01,  6.22310337e-01,\n",
       "          -1.69030851e-01]]),\n",
       "  array([[ 3.87298335, -0.51639778, -2.06559112,  3.09838668],\n",
       "         [ 0.        ,  2.59486673,  1.90118948,  0.61660199],\n",
       "         [ 0.        ,  0.        ,  1.76601582, -0.43729916],\n",
       "         [ 0.        ,  0.        ,  0.        ,  2.19740106]])),\n",
       " (array([[ 0.89442719,  0.35856858,  0.19518001, -0.18257419],\n",
       "         [-0.4472136 ,  0.71713717,  0.39036003, -0.36514837],\n",
       "         [ 0.        , -0.5976143 ,  0.58554004, -0.54772256],\n",
       "         [ 0.        ,  0.        , -0.68313005, -0.73029674]]),\n",
       "  array([[ 2.23606798, -1.78885438,  0.4472136 ,  0.        ],\n",
       "         [ 0.        ,  1.67332005, -1.91236577,  0.5976143 ],\n",
       "         [ 0.        ,  0.        ,  1.46385011, -0.58554004],\n",
       "         [ 0.        ,  0.        ,  0.        ,  0.54772256]])))"
      ]
     },
     "execution_count": 29,
     "metadata": {},
     "output_type": "execute_result"
    }
   ],
   "source": [
    "descomposicion_qr(A), descomposicion_qr(B), descomposicion_qr(C)"
   ]
  },
  {
   "cell_type": "markdown",
   "id": "dcfa6178-f343-4886-ba8b-4200f074f7e8",
   "metadata": {},
   "source": [
    "## Ejercicio 2\n",
    "Implementar algoritmos para los metodos de Jacobi, Seidel, JOR, y SOR para resolver $Ax = b$. En este caso, ademas de la informacion del sistema, cada funcion debe recibir como argumento una $x_{0}$ como punto inicial, una tolerancia maxima $\\epsilon \\ge 0$ para el criterio de paro, un numero maximo de iteraciones $maxI$ y cuando sea necesario el parametro $\\omega$. <br>"
   ]
  },
  {
   "cell_type": "code",
   "execution_count": 595,
   "id": "5d79dd06-1a65-48ed-9a00-6cbbdd86a41a",
   "metadata": {},
   "outputs": [],
   "source": [
    "### función matriz dominante\n",
    "def es_dominante(A, tolerancia=1e-6):\n",
    "    A = np.array(A)\n",
    "    num_filas, num_cols = A.shape\n",
    "    for i in range(num_filas):\n",
    "        diagonal = abs(A[i, i])\n",
    "        row_suma = np.sum(np.abs(A[i, :])) - diagonal\n",
    "        if diagonal <= row_suma + tolerancia:\n",
    "            return False\n",
    "    return True"
   ]
  },
  {
   "cell_type": "markdown",
   "id": "7f3dc105-3a65-4e22-b1bb-4d5ba86d8b39",
   "metadata": {},
   "source": [
    "### Metodo Jacobi"
   ]
  },
  {
   "cell_type": "code",
   "execution_count": 596,
   "id": "870e444b-8831-49e7-850c-56124eb69038",
   "metadata": {},
   "outputs": [],
   "source": [
    "def jacobi(A, b, x_0, epsilon=1e-8, iter=500):\n",
    "    #print(\"A =\")\n",
    "    #print(A)\n",
    "    #print(\"b =\")\n",
    "    #print(np.atleast_2d(b).T)\n",
    "    if es_dominante(A) == True:\n",
    "        print(\"calculando...\")\n",
    "    else:\n",
    "        print('Advertencia: La Matriz no es diagonalmente dominante. \\n\\\n",
    "            Existe riesgo de no convergencia')\n",
    "    n = len(b)\n",
    "    x_new = np.zeros_like(x_0, dtype=np.float32)\n",
    "    \n",
    "    D = np.diag(A).astype(np.float32)\n",
    "    R = A.astype(np.float32) - np.diagflat(D).astype(np.float32)\n",
    "\n",
    "    for i in range(iter):\n",
    "        x_old = x_new\n",
    "        x_new = (b - np.dot(R,x_old)) / D\n",
    "        if (np.all(abs(x_old-x_new)) <= epsilon):\n",
    "            print(f\"Converge despues de {i + 1} iteraciones.\")\n",
    "            break\n",
    "    return x_new"
   ]
  },
  {
   "cell_type": "markdown",
   "id": "31ab3d6b-1ecc-437c-88d3-2a5562cda9c9",
   "metadata": {},
   "source": [
    "### Metodo Seidel"
   ]
  },
  {
   "cell_type": "code",
   "execution_count": 597,
   "id": "93da8d25-e60d-4ea9-9612-e896d0c66857",
   "metadata": {},
   "outputs": [],
   "source": [
    "def seidel(A, b, x_0, epsilon=1e-8, iter=5000):\n",
    "    #print(\"A =\")\n",
    "    #print(A)\n",
    "    #print(\"b =\")\n",
    "    #print(np.atleast_2d(b).T)\n",
    "    x = x_0\n",
    "    for it_count in range(iter):\n",
    "        x_new = np.zeros_like(x, dtype=np.float_)\n",
    "        for i in range(A.shape[0]):\n",
    "            s1 = np.dot(A[i, :i], x_new[:i])\n",
    "            s2 = np.dot(A[i, i + 1 :], x[i + 1 :])\n",
    "            x_new[i] = (b[i] - s1 - s2) / A[i, i]\n",
    "        if np.allclose(x, x_new, rtol=epsilon):\n",
    "            print(f\"Converge despues de {it_count + 1} iteraciones.\")\n",
    "            break\n",
    "        x = x_new\n",
    "    return x"
   ]
  },
  {
   "cell_type": "markdown",
   "id": "c6b62865-1e58-4f55-b612-1edd3268311b",
   "metadata": {},
   "source": [
    "### Metodo JOR"
   ]
  },
  {
   "cell_type": "code",
   "execution_count": 598,
   "id": "2adaba4f-2b5d-44d6-841e-f4b7e95cba68",
   "metadata": {},
   "outputs": [],
   "source": [
    "def jor(A, b, x_0, epsilon=1e-8, iter=5000, w=0.5):\n",
    "    if w < 0 or w > 1:\n",
    "        raise ValueError(\"Omega (w) debe estar entre 0 y 1\")\n",
    "    #print(\"A =\")\n",
    "    #print(A)\n",
    "    #print(\"b =\")\n",
    "    #print(np.atleast_2d(b).T)\n",
    "    n = len(b)\n",
    "    x = x_0.copy()\n",
    "    for _ in range(iter):\n",
    "        x_new = np.zeros_like(x, dtype=np.float32)\n",
    "        for i in range(n):\n",
    "            x_new[i] = (1 - w) * x[i] + (w / A[i, i]) * (b[i] - np.dot(A[i, :i], x_new[:i]) - np.dot(A[i, i+1:], x[i+1:]))\n",
    "        if np.linalg.norm(x_new - x) < epsilon:\n",
    "            print(f\"Converge despues de { _ + 1} iteraciones.\")\n",
    "            break\n",
    "        x = x_new\n",
    "    return x"
   ]
  },
  {
   "cell_type": "markdown",
   "id": "45533734-5190-419d-8a83-e22ce1f015a1",
   "metadata": {},
   "source": [
    "### Metodo SOR"
   ]
  },
  {
   "cell_type": "code",
   "execution_count": 599,
   "id": "9c5d0834-a88b-42be-9510-64d9dff171fe",
   "metadata": {},
   "outputs": [],
   "source": [
    "def sor(A, b, x_0, epsilon=1e-8, iter=5000, w=1.25):\n",
    "    if w < 0 or w > 2:\n",
    "        raise ValueError(\"Omega (w) debe estar entre 0 y 2\")\n",
    "    #print(\"A =\")\n",
    "    #print(A)\n",
    "    #print(\"b =\")\n",
    "    #print(np.atleast_2d(b).T)\n",
    "    n = len(b)\n",
    "    x = x_0\n",
    "    for _ in range(iter):\n",
    "        for i in range(n):\n",
    "            x[i] = (1 - w) * x[i] + (w / A[i, i]) * (b[i] - np.dot(A[i, :i], x[:i]) - np.dot(A[i, i+1:], x[i+1:]))\n",
    "        if np.linalg.norm(A @ x - b) < epsilon:\n",
    "            print(f\"Converge despues de { _ + 1} iteraciones.\")\n",
    "            break\n",
    "    return x"
   ]
  },
  {
   "cell_type": "markdown",
   "id": "231394e7-fe1e-4521-bb85-e816e4bcbf39",
   "metadata": {},
   "source": [
    "### Sistema tridiagonal"
   ]
  },
  {
   "cell_type": "code",
   "execution_count": 600,
   "id": "90e16777-d343-4ee5-95f1-76726d407103",
   "metadata": {},
   "outputs": [
    {
     "data": {
      "text/plain": [
       "((100, 100),\n",
       " array([[ 4., -1.,  0., ...,  0.,  0.,  0.],\n",
       "        [-1.,  4., -1., ...,  0.,  0.,  0.],\n",
       "        [ 0., -1.,  4., ...,  0.,  0.,  0.],\n",
       "        ...,\n",
       "        [ 0.,  0.,  0., ...,  4., -1.,  0.],\n",
       "        [ 0.,  0.,  0., ..., -1.,  4., -1.],\n",
       "        [ 0.,  0.,  0., ...,  0., -1.,  4.]]))"
      ]
     },
     "execution_count": 600,
     "metadata": {},
     "output_type": "execute_result"
    }
   ],
   "source": [
    "diagonal_principal = 4 * np.ones(100)\n",
    "diagonal_adyacente = -1 * np.ones(99)\n",
    "A = np.diag(diagonal_principal) + np.diag(diagonal_adyacente, k=1) + np.diag(diagonal_adyacente, k=-1)\n",
    "A.shape, A"
   ]
  },
  {
   "cell_type": "code",
   "execution_count": 601,
   "id": "41cd20b9-82ba-4d03-a0ce-f68d484d8e33",
   "metadata": {},
   "outputs": [
    {
     "data": {
      "text/plain": [
       "((100,),\n",
       " array([3, 2, 2, 2, 2, 2, 2, 2, 2, 2, 2, 2, 2, 2, 2, 2, 2, 2, 2, 2, 2, 2,\n",
       "        2, 2, 2, 2, 2, 2, 2, 2, 2, 2, 2, 2, 2, 2, 2, 2, 2, 2, 2, 2, 2, 2,\n",
       "        2, 2, 2, 2, 2, 2, 2, 2, 2, 2, 2, 2, 2, 2, 2, 2, 2, 2, 2, 2, 2, 2,\n",
       "        2, 2, 2, 2, 2, 2, 2, 2, 2, 2, 2, 2, 2, 2, 2, 2, 2, 2, 2, 2, 2, 2,\n",
       "        2, 2, 2, 2, 2, 2, 2, 2, 2, 2, 2, 3]))"
      ]
     },
     "execution_count": 601,
     "metadata": {},
     "output_type": "execute_result"
    }
   ],
   "source": [
    "b = np.concatenate(([3], np.full(98, 2), [3]))\n",
    "b.shape, b"
   ]
  },
  {
   "cell_type": "code",
   "execution_count": 602,
   "id": "0bc77c03-8707-4a65-b33e-623386818c4b",
   "metadata": {},
   "outputs": [
    {
     "data": {
      "text/plain": [
       "array([37., 32., 30., 35., 49., 57., 81., 81., 14.,  9., 18., 23., 78.,\n",
       "       27., 59., 35., 92., 41., 91.,  1., 67., 94., 37., 83., 78., 97.,\n",
       "       29., 34., 20., 66., 51., 16., 62., 40., 72., 54., 20.,  5.,  3.,\n",
       "       15., 28., 73., 67., 42.,  9., 60., 65.,  8., 53., 52., 95., 41.,\n",
       "       66., 17., 61., 85., 10., 15., 84., 90., 35., 11., 39.,  5., 47.,\n",
       "       46., 76., 84., 90., 55.,  9., 13., 94., 98., 64., 18., 29., 41.,\n",
       "       62., 93., 87., 92., 63., 99., 37., 41., 76., 77., 32., 31., 90.,\n",
       "       74., 95., 61., 23., 66., 76., 52.,  6., 63.])"
      ]
     },
     "execution_count": 602,
     "metadata": {},
     "output_type": "execute_result"
    }
   ],
   "source": [
    "x_0 = np.round(np.random.rand(100) * 100,0)\n",
    "x_0"
   ]
  },
  {
   "cell_type": "code",
   "execution_count": 603,
   "id": "cfb8bfce-a556-4097-a963-15c74e1e952f",
   "metadata": {},
   "outputs": [
    {
     "data": {
      "text/plain": [
       "array([1., 1., 1., 1., 1., 1., 1., 1., 1., 1., 1., 1., 1., 1., 1., 1., 1.,\n",
       "       1., 1., 1., 1., 1., 1., 1., 1., 1., 1., 1., 1., 1., 1., 1., 1., 1.,\n",
       "       1., 1., 1., 1., 1., 1., 1., 1., 1., 1., 1., 1., 1., 1., 1., 1., 1.,\n",
       "       1., 1., 1., 1., 1., 1., 1., 1., 1., 1., 1., 1., 1., 1., 1., 1., 1.,\n",
       "       1., 1., 1., 1., 1., 1., 1., 1., 1., 1., 1., 1., 1., 1., 1., 1., 1.,\n",
       "       1., 1., 1., 1., 1., 1., 1., 1., 1., 1., 1., 1., 1., 1., 1.])"
      ]
     },
     "execution_count": 603,
     "metadata": {},
     "output_type": "execute_result"
    }
   ],
   "source": [
    "x_sol = x_exact = np.ones(100)\n",
    "x_sol"
   ]
  },
  {
   "cell_type": "code",
   "execution_count": 604,
   "id": "e686c6c5-4a04-4068-b756-21a8b9b4eec4",
   "metadata": {},
   "outputs": [
    {
     "name": "stdout",
     "output_type": "stream",
     "text": [
      "calculando...\n",
      "Converge despues de 52 iteraciones.\n"
     ]
    },
    {
     "data": {
      "text/plain": [
       "array([1., 1., 1., 1., 1., 1., 1., 1., 1., 1., 1., 1., 1., 1., 1., 1., 1.,\n",
       "       1., 1., 1., 1., 1., 1., 1., 1., 1., 1., 1., 1., 1., 1., 1., 1., 1.,\n",
       "       1., 1., 1., 1., 1., 1., 1., 1., 1., 1., 1., 1., 1., 1., 1., 1., 1.,\n",
       "       1., 1., 1., 1., 1., 1., 1., 1., 1., 1., 1., 1., 1., 1., 1., 1., 1.,\n",
       "       1., 1., 1., 1., 1., 1., 1., 1., 1., 1., 1., 1., 1., 1., 1., 1., 1.,\n",
       "       1., 1., 1., 1., 1., 1., 1., 1., 1., 1., 1., 1., 1., 1., 1.])"
      ]
     },
     "execution_count": 604,
     "metadata": {},
     "output_type": "execute_result"
    }
   ],
   "source": [
    "jacobi_sol = jacobi(A,b,x_0)\n",
    "jacobi_sol"
   ]
  },
  {
   "cell_type": "code",
   "execution_count": 605,
   "id": "5e276c6d-5f5f-4bb4-b63f-3cafa59083bd",
   "metadata": {},
   "outputs": [
    {
     "name": "stdout",
     "output_type": "stream",
     "text": [
      "Converge despues de 21 iteraciones.\n"
     ]
    },
    {
     "data": {
      "text/plain": [
       "array([1.00000001, 1.00000001, 1.00000001, 1.00000002, 1.00000002,\n",
       "       1.00000002, 1.00000002, 1.00000002, 1.00000002, 1.00000002,\n",
       "       1.00000002, 1.00000002, 1.00000002, 1.00000001, 1.00000001,\n",
       "       1.00000001, 1.00000001, 1.00000001, 1.00000001, 1.00000001,\n",
       "       1.00000001, 1.00000001, 1.00000001, 1.00000001, 1.00000001,\n",
       "       1.00000001, 1.00000001, 1.00000001, 1.00000001, 1.00000001,\n",
       "       1.00000001, 1.00000001, 1.00000001, 1.00000001, 1.00000001,\n",
       "       1.00000001, 1.00000001, 1.00000001, 1.00000001, 1.00000001,\n",
       "       1.00000001, 1.00000001, 1.00000001, 1.00000001, 1.00000001,\n",
       "       1.00000001, 1.00000001, 1.00000001, 1.00000001, 1.00000001,\n",
       "       1.00000001, 1.00000001, 1.00000002, 1.00000002, 1.00000002,\n",
       "       1.00000002, 1.00000002, 1.00000002, 1.00000002, 1.00000002,\n",
       "       1.00000001, 1.00000001, 1.00000002, 1.00000002, 1.00000002,\n",
       "       1.00000002, 1.00000002, 1.00000002, 1.00000002, 1.00000002,\n",
       "       1.00000002, 1.00000002, 1.00000002, 1.00000002, 1.00000002,\n",
       "       1.00000002, 1.00000002, 1.00000002, 1.00000002, 1.00000002,\n",
       "       1.00000002, 1.00000002, 1.00000001, 1.00000001, 1.00000001,\n",
       "       1.00000001, 1.00000001, 1.        , 1.        , 1.        ,\n",
       "       1.        , 1.        , 1.        , 1.        , 1.        ,\n",
       "       1.        , 1.        , 1.        , 1.        , 1.        ])"
      ]
     },
     "execution_count": 605,
     "metadata": {},
     "output_type": "execute_result"
    }
   ],
   "source": [
    "seidel_sol = seidel(A,b,x_0)\n",
    "seidel_sol"
   ]
  },
  {
   "cell_type": "code",
   "execution_count": 606,
   "id": "8a667bcf-a0d5-4e4d-bac7-a846183a700a",
   "metadata": {},
   "outputs": [
    {
     "name": "stdout",
     "output_type": "stream",
     "text": [
      "Converge despues de 60 iteraciones.\n"
     ]
    },
    {
     "data": {
      "text/plain": [
       "array([1.0000001, 1.0000001, 1.0000001, 1.0000001, 1.0000001, 1.0000001,\n",
       "       1.0000001, 1.0000001, 1.0000001, 1.0000001, 1.0000001, 1.0000001,\n",
       "       1.0000001, 1.0000001, 1.0000001, 1.0000001, 1.0000001, 1.0000001,\n",
       "       1.0000001, 1.0000001, 1.0000001, 1.0000001, 1.0000001, 1.0000001,\n",
       "       1.0000001, 1.0000001, 1.0000001, 1.0000001, 1.0000001, 1.0000001,\n",
       "       1.0000001, 1.0000001, 1.0000001, 1.0000001, 1.0000001, 1.0000001,\n",
       "       1.0000001, 1.0000001, 1.0000001, 1.0000001, 1.0000001, 1.0000001,\n",
       "       1.0000001, 1.0000001, 1.0000001, 1.0000001, 1.0000001, 1.0000001,\n",
       "       1.0000001, 1.0000001, 1.0000001, 1.0000001, 1.0000001, 1.0000001,\n",
       "       1.0000001, 1.0000001, 1.0000001, 1.0000001, 1.0000001, 1.0000001,\n",
       "       1.0000001, 1.0000001, 1.0000001, 1.0000001, 1.0000001, 1.0000001,\n",
       "       1.0000001, 1.0000001, 1.0000001, 1.0000001, 1.0000001, 1.0000001,\n",
       "       1.0000001, 1.0000001, 1.0000001, 1.0000001, 1.0000001, 1.0000001,\n",
       "       1.0000001, 1.0000001, 1.0000001, 1.0000001, 1.0000001, 1.0000001,\n",
       "       1.0000001, 1.0000001, 1.0000001, 1.0000001, 1.0000001, 1.0000001,\n",
       "       1.0000001, 1.0000001, 1.0000001, 1.0000001, 1.0000001, 1.0000001,\n",
       "       1.0000001, 1.0000001, 1.0000001, 1.0000001], dtype=float32)"
      ]
     },
     "execution_count": 606,
     "metadata": {},
     "output_type": "execute_result"
    }
   ],
   "source": [
    "jor_sol = jor(A,b,x_0)\n",
    "jor_sol"
   ]
  },
  {
   "cell_type": "code",
   "execution_count": 607,
   "id": "5925a97a-09e8-4e77-be0c-70ed5d83d147",
   "metadata": {},
   "outputs": [
    {
     "name": "stdout",
     "output_type": "stream",
     "text": [
      "Converge despues de 30 iteraciones.\n"
     ]
    },
    {
     "data": {
      "text/plain": [
       "array([1., 1., 1., 1., 1., 1., 1., 1., 1., 1., 1., 1., 1., 1., 1., 1., 1.,\n",
       "       1., 1., 1., 1., 1., 1., 1., 1., 1., 1., 1., 1., 1., 1., 1., 1., 1.,\n",
       "       1., 1., 1., 1., 1., 1., 1., 1., 1., 1., 1., 1., 1., 1., 1., 1., 1.,\n",
       "       1., 1., 1., 1., 1., 1., 1., 1., 1., 1., 1., 1., 1., 1., 1., 1., 1.,\n",
       "       1., 1., 1., 1., 1., 1., 1., 1., 1., 1., 1., 1., 1., 1., 1., 1., 1.,\n",
       "       1., 1., 1., 1., 1., 1., 1., 1., 1., 1., 1., 1., 1., 1., 1.])"
      ]
     },
     "execution_count": 607,
     "metadata": {},
     "output_type": "execute_result"
    }
   ],
   "source": [
    "sor_sol = sor(A,b,x_0)\n",
    "sor_sol"
   ]
  },
  {
   "cell_type": "markdown",
   "id": "327ff934-0a9e-487a-95a1-c3144361e35c",
   "metadata": {},
   "source": [
    "##### Por la forma en que está diseñado los algoritmos, Seidel es el que más rápido converge."
   ]
  },
  {
   "cell_type": "code",
   "execution_count": 608,
   "id": "a022932c-d583-4a2a-9765-0322cf5643cb",
   "metadata": {},
   "outputs": [],
   "source": [
    "jacobi_eps = np.linalg.norm(jacobi_sol - x_sol)\n",
    "seidel_eps = np.linalg.norm(seidel_sol - x_sol)\n",
    "jor_eps = np.linalg.norm(jor_sol - x_sol)\n",
    "sor_eps = np.linalg.norm(sor_sol - x_sol)"
   ]
  },
  {
   "cell_type": "code",
   "execution_count": 609,
   "id": "82900f61-e891-49c6-8efc-5ea62ee997d9",
   "metadata": {},
   "outputs": [
    {
     "data": {
      "text/plain": [
       "(2.0888721554953336e-15,\n",
       " 1.3774981009638282e-07,\n",
       " 1.1920928955078125e-06,\n",
       " 7.777234659113134e-10)"
      ]
     },
     "execution_count": 609,
     "metadata": {},
     "output_type": "execute_result"
    }
   ],
   "source": [
    "jacobi_eps, seidel_eps, jor_eps, sor_eps"
   ]
  },
  {
   "cell_type": "markdown",
   "id": "a097ab0d-ce02-4723-ac49-d3b0e1d33b46",
   "metadata": {},
   "source": [
    "####  En términos de error todos parecen ser bastante exactos pero jacobi parece tener el menor error"
   ]
  }
 ],
 "metadata": {
  "kernelspec": {
   "display_name": "Python 3 (ipykernel)",
   "language": "python",
   "name": "python3"
  },
  "language_info": {
   "codemirror_mode": {
    "name": "ipython",
    "version": 3
   },
   "file_extension": ".py",
   "mimetype": "text/x-python",
   "name": "python",
   "nbconvert_exporter": "python",
   "pygments_lexer": "ipython3",
   "version": "3.11.1"
  }
 },
 "nbformat": 4,
 "nbformat_minor": 5
}
