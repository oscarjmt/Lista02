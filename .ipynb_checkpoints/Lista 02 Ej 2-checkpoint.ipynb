{
 "cells": [
  {
   "cell_type": "markdown",
   "id": "dcfa6178-f343-4886-ba8b-4200f074f7e8",
   "metadata": {},
   "source": [
    "## Ejercicio 2\n",
    "Implementar algoritmos para los metodos de Jacobi, Seidel, JOR, y SOR para resolver $Ax = b$. En este caso, ademas de la informacion del sistema, cada funcion debe recibir como argumento una $x_{0}$ como punto inicial, una tolerancia maxima $\\epsilon \\ge 0$ para el criterio de paro, un numero maximo de iteraciones $maxI$ y cuando sea necesario el parametro $\\omega$. <br>"
   ]
  },
  {
   "cell_type": "code",
   "execution_count": 594,
   "id": "7f0fcddd-0d84-4684-8edc-265d20d18291",
   "metadata": {},
   "outputs": [],
   "source": [
    "import numpy as np\n",
    "import scipy.linalg"
   ]
  },
  {
   "cell_type": "code",
   "execution_count": 595,
   "id": "5d79dd06-1a65-48ed-9a00-6cbbdd86a41a",
   "metadata": {},
   "outputs": [],
   "source": [
    "### función matriz dominante\n",
    "def es_dominante(A, tolerancia=1e-6):\n",
    "    A = np.array(A)\n",
    "    num_filas, num_cols = A.shape\n",
    "    for i in range(num_filas):\n",
    "        diagonal = abs(A[i, i])\n",
    "        row_suma = np.sum(np.abs(A[i, :])) - diagonal\n",
    "        if diagonal <= row_suma + tolerancia:\n",
    "            return False\n",
    "    return True"
   ]
  },
  {
   "cell_type": "markdown",
   "id": "7f3dc105-3a65-4e22-b1bb-4d5ba86d8b39",
   "metadata": {},
   "source": [
    "### Metodo Jacobi"
   ]
  },
  {
   "cell_type": "code",
   "execution_count": 596,
   "id": "870e444b-8831-49e7-850c-56124eb69038",
   "metadata": {},
   "outputs": [],
   "source": [
    "def jacobi(A, b, x_0, epsilon=1e-8, iter=500):\n",
    "    #print(\"A =\")\n",
    "    #print(A)\n",
    "    #print(\"b =\")\n",
    "    #print(np.atleast_2d(b).T)\n",
    "    if es_dominante(A) == True:\n",
    "        print(\"calculando...\")\n",
    "    else:\n",
    "        print('Advertencia: La Matriz no es diagonalmente dominante. \\n\\\n",
    "            Existe riesgo de no convergencia')\n",
    "    n = len(b)\n",
    "    x_new = np.zeros_like(x_0, dtype=np.float32)\n",
    "    \n",
    "    D = np.diag(A).astype(np.float32)\n",
    "    R = A.astype(np.float32) - np.diagflat(D).astype(np.float32)\n",
    "\n",
    "    for i in range(iter):\n",
    "        x_old = x_new\n",
    "        x_new = (b - np.dot(R,x_old)) / D\n",
    "        if (np.all(abs(x_old-x_new)) <= epsilon):\n",
    "            print(f\"Converge despues de {i + 1} iteraciones.\")\n",
    "            break\n",
    "    return x_new"
   ]
  },
  {
   "cell_type": "markdown",
   "id": "31ab3d6b-1ecc-437c-88d3-2a5562cda9c9",
   "metadata": {},
   "source": [
    "### Metodo Seidel"
   ]
  },
  {
   "cell_type": "code",
   "execution_count": 597,
   "id": "93da8d25-e60d-4ea9-9612-e896d0c66857",
   "metadata": {},
   "outputs": [],
   "source": [
    "def seidel(A, b, x_0, epsilon=1e-8, iter=5000):\n",
    "    #print(\"A =\")\n",
    "    #print(A)\n",
    "    #print(\"b =\")\n",
    "    #print(np.atleast_2d(b).T)\n",
    "    x = x_0\n",
    "    for it_count in range(iter):\n",
    "        x_new = np.zeros_like(x, dtype=np.float_)\n",
    "        for i in range(A.shape[0]):\n",
    "            s1 = np.dot(A[i, :i], x_new[:i])\n",
    "            s2 = np.dot(A[i, i + 1 :], x[i + 1 :])\n",
    "            x_new[i] = (b[i] - s1 - s2) / A[i, i]\n",
    "        if np.allclose(x, x_new, rtol=epsilon):\n",
    "            print(f\"Converge despues de {it_count + 1} iteraciones.\")\n",
    "            break\n",
    "        x = x_new\n",
    "    return x"
   ]
  },
  {
   "cell_type": "markdown",
   "id": "c6b62865-1e58-4f55-b612-1edd3268311b",
   "metadata": {},
   "source": [
    "### Metodo JOR"
   ]
  },
  {
   "cell_type": "code",
   "execution_count": 598,
   "id": "2adaba4f-2b5d-44d6-841e-f4b7e95cba68",
   "metadata": {},
   "outputs": [],
   "source": [
    "def jor(A, b, x_0, epsilon=1e-8, iter=5000, w=0.5):\n",
    "    if w < 0 or w > 1:\n",
    "        raise ValueError(\"Omega (w) debe estar entre 0 y 1\")\n",
    "    #print(\"A =\")\n",
    "    #print(A)\n",
    "    #print(\"b =\")\n",
    "    #print(np.atleast_2d(b).T)\n",
    "    n = len(b)\n",
    "    x = x_0.copy()\n",
    "    for _ in range(iter):\n",
    "        x_new = np.zeros_like(x, dtype=np.float32)\n",
    "        for i in range(n):\n",
    "            x_new[i] = (1 - w) * x[i] + (w / A[i, i]) * (b[i] - np.dot(A[i, :i], x_new[:i]) - np.dot(A[i, i+1:], x[i+1:]))\n",
    "        if np.linalg.norm(x_new - x) < epsilon:\n",
    "            print(f\"Converge despues de { _ + 1} iteraciones.\")\n",
    "            break\n",
    "        x = x_new\n",
    "    return x"
   ]
  },
  {
   "cell_type": "markdown",
   "id": "45533734-5190-419d-8a83-e22ce1f015a1",
   "metadata": {},
   "source": [
    "### Metodo SOR"
   ]
  },
  {
   "cell_type": "code",
   "execution_count": 599,
   "id": "9c5d0834-a88b-42be-9510-64d9dff171fe",
   "metadata": {},
   "outputs": [],
   "source": [
    "def sor(A, b, x_0, epsilon=1e-8, iter=5000, w=1.25):\n",
    "    if w < 0 or w > 2:\n",
    "        raise ValueError(\"Omega (w) debe estar entre 0 y 2\")\n",
    "    #print(\"A =\")\n",
    "    #print(A)\n",
    "    #print(\"b =\")\n",
    "    #print(np.atleast_2d(b).T)\n",
    "    n = len(b)\n",
    "    x = x_0\n",
    "    for _ in range(iter):\n",
    "        for i in range(n):\n",
    "            x[i] = (1 - w) * x[i] + (w / A[i, i]) * (b[i] - np.dot(A[i, :i], x[:i]) - np.dot(A[i, i+1:], x[i+1:]))\n",
    "        if np.linalg.norm(A @ x - b) < epsilon:\n",
    "            print(f\"Converge despues de { _ + 1} iteraciones.\")\n",
    "            break\n",
    "    return x"
   ]
  },
  {
   "cell_type": "markdown",
   "id": "231394e7-fe1e-4521-bb85-e816e4bcbf39",
   "metadata": {},
   "source": [
    "### Sistema tridiagonal"
   ]
  },
  {
   "cell_type": "code",
   "execution_count": 600,
   "id": "90e16777-d343-4ee5-95f1-76726d407103",
   "metadata": {},
   "outputs": [
    {
     "data": {
      "text/plain": [
       "((100, 100),\n",
       " array([[ 4., -1.,  0., ...,  0.,  0.,  0.],\n",
       "        [-1.,  4., -1., ...,  0.,  0.,  0.],\n",
       "        [ 0., -1.,  4., ...,  0.,  0.,  0.],\n",
       "        ...,\n",
       "        [ 0.,  0.,  0., ...,  4., -1.,  0.],\n",
       "        [ 0.,  0.,  0., ..., -1.,  4., -1.],\n",
       "        [ 0.,  0.,  0., ...,  0., -1.,  4.]]))"
      ]
     },
     "execution_count": 600,
     "metadata": {},
     "output_type": "execute_result"
    }
   ],
   "source": [
    "diagonal_principal = 4 * np.ones(100)\n",
    "diagonal_adyacente = -1 * np.ones(99)\n",
    "A = np.diag(diagonal_principal) + np.diag(diagonal_adyacente, k=1) + np.diag(diagonal_adyacente, k=-1)\n",
    "A.shape, A"
   ]
  },
  {
   "cell_type": "code",
   "execution_count": 601,
   "id": "41cd20b9-82ba-4d03-a0ce-f68d484d8e33",
   "metadata": {},
   "outputs": [
    {
     "data": {
      "text/plain": [
       "((100,),\n",
       " array([3, 2, 2, 2, 2, 2, 2, 2, 2, 2, 2, 2, 2, 2, 2, 2, 2, 2, 2, 2, 2, 2,\n",
       "        2, 2, 2, 2, 2, 2, 2, 2, 2, 2, 2, 2, 2, 2, 2, 2, 2, 2, 2, 2, 2, 2,\n",
       "        2, 2, 2, 2, 2, 2, 2, 2, 2, 2, 2, 2, 2, 2, 2, 2, 2, 2, 2, 2, 2, 2,\n",
       "        2, 2, 2, 2, 2, 2, 2, 2, 2, 2, 2, 2, 2, 2, 2, 2, 2, 2, 2, 2, 2, 2,\n",
       "        2, 2, 2, 2, 2, 2, 2, 2, 2, 2, 2, 3]))"
      ]
     },
     "execution_count": 601,
     "metadata": {},
     "output_type": "execute_result"
    }
   ],
   "source": [
    "b = np.concatenate(([3], np.full(98, 2), [3]))\n",
    "b.shape, b"
   ]
  },
  {
   "cell_type": "code",
   "execution_count": 602,
   "id": "0bc77c03-8707-4a65-b33e-623386818c4b",
   "metadata": {},
   "outputs": [
    {
     "data": {
      "text/plain": [
       "array([37., 32., 30., 35., 49., 57., 81., 81., 14.,  9., 18., 23., 78.,\n",
       "       27., 59., 35., 92., 41., 91.,  1., 67., 94., 37., 83., 78., 97.,\n",
       "       29., 34., 20., 66., 51., 16., 62., 40., 72., 54., 20.,  5.,  3.,\n",
       "       15., 28., 73., 67., 42.,  9., 60., 65.,  8., 53., 52., 95., 41.,\n",
       "       66., 17., 61., 85., 10., 15., 84., 90., 35., 11., 39.,  5., 47.,\n",
       "       46., 76., 84., 90., 55.,  9., 13., 94., 98., 64., 18., 29., 41.,\n",
       "       62., 93., 87., 92., 63., 99., 37., 41., 76., 77., 32., 31., 90.,\n",
       "       74., 95., 61., 23., 66., 76., 52.,  6., 63.])"
      ]
     },
     "execution_count": 602,
     "metadata": {},
     "output_type": "execute_result"
    }
   ],
   "source": [
    "x_0 = np.round(np.random.rand(100) * 100,0)\n",
    "x_0"
   ]
  },
  {
   "cell_type": "code",
   "execution_count": 603,
   "id": "cfb8bfce-a556-4097-a963-15c74e1e952f",
   "metadata": {},
   "outputs": [
    {
     "data": {
      "text/plain": [
       "array([1., 1., 1., 1., 1., 1., 1., 1., 1., 1., 1., 1., 1., 1., 1., 1., 1.,\n",
       "       1., 1., 1., 1., 1., 1., 1., 1., 1., 1., 1., 1., 1., 1., 1., 1., 1.,\n",
       "       1., 1., 1., 1., 1., 1., 1., 1., 1., 1., 1., 1., 1., 1., 1., 1., 1.,\n",
       "       1., 1., 1., 1., 1., 1., 1., 1., 1., 1., 1., 1., 1., 1., 1., 1., 1.,\n",
       "       1., 1., 1., 1., 1., 1., 1., 1., 1., 1., 1., 1., 1., 1., 1., 1., 1.,\n",
       "       1., 1., 1., 1., 1., 1., 1., 1., 1., 1., 1., 1., 1., 1., 1.])"
      ]
     },
     "execution_count": 603,
     "metadata": {},
     "output_type": "execute_result"
    }
   ],
   "source": [
    "x_sol = x_exact = np.ones(100)\n",
    "x_sol"
   ]
  },
  {
   "cell_type": "code",
   "execution_count": 604,
   "id": "e686c6c5-4a04-4068-b756-21a8b9b4eec4",
   "metadata": {},
   "outputs": [
    {
     "name": "stdout",
     "output_type": "stream",
     "text": [
      "calculando...\n",
      "Converge despues de 52 iteraciones.\n"
     ]
    },
    {
     "data": {
      "text/plain": [
       "array([1., 1., 1., 1., 1., 1., 1., 1., 1., 1., 1., 1., 1., 1., 1., 1., 1.,\n",
       "       1., 1., 1., 1., 1., 1., 1., 1., 1., 1., 1., 1., 1., 1., 1., 1., 1.,\n",
       "       1., 1., 1., 1., 1., 1., 1., 1., 1., 1., 1., 1., 1., 1., 1., 1., 1.,\n",
       "       1., 1., 1., 1., 1., 1., 1., 1., 1., 1., 1., 1., 1., 1., 1., 1., 1.,\n",
       "       1., 1., 1., 1., 1., 1., 1., 1., 1., 1., 1., 1., 1., 1., 1., 1., 1.,\n",
       "       1., 1., 1., 1., 1., 1., 1., 1., 1., 1., 1., 1., 1., 1., 1.])"
      ]
     },
     "execution_count": 604,
     "metadata": {},
     "output_type": "execute_result"
    }
   ],
   "source": [
    "jacobi_sol = jacobi(A,b,x_0)\n",
    "jacobi_sol"
   ]
  },
  {
   "cell_type": "code",
   "execution_count": 605,
   "id": "5e276c6d-5f5f-4bb4-b63f-3cafa59083bd",
   "metadata": {},
   "outputs": [
    {
     "name": "stdout",
     "output_type": "stream",
     "text": [
      "Converge despues de 21 iteraciones.\n"
     ]
    },
    {
     "data": {
      "text/plain": [
       "array([1.00000001, 1.00000001, 1.00000001, 1.00000002, 1.00000002,\n",
       "       1.00000002, 1.00000002, 1.00000002, 1.00000002, 1.00000002,\n",
       "       1.00000002, 1.00000002, 1.00000002, 1.00000001, 1.00000001,\n",
       "       1.00000001, 1.00000001, 1.00000001, 1.00000001, 1.00000001,\n",
       "       1.00000001, 1.00000001, 1.00000001, 1.00000001, 1.00000001,\n",
       "       1.00000001, 1.00000001, 1.00000001, 1.00000001, 1.00000001,\n",
       "       1.00000001, 1.00000001, 1.00000001, 1.00000001, 1.00000001,\n",
       "       1.00000001, 1.00000001, 1.00000001, 1.00000001, 1.00000001,\n",
       "       1.00000001, 1.00000001, 1.00000001, 1.00000001, 1.00000001,\n",
       "       1.00000001, 1.00000001, 1.00000001, 1.00000001, 1.00000001,\n",
       "       1.00000001, 1.00000001, 1.00000002, 1.00000002, 1.00000002,\n",
       "       1.00000002, 1.00000002, 1.00000002, 1.00000002, 1.00000002,\n",
       "       1.00000001, 1.00000001, 1.00000002, 1.00000002, 1.00000002,\n",
       "       1.00000002, 1.00000002, 1.00000002, 1.00000002, 1.00000002,\n",
       "       1.00000002, 1.00000002, 1.00000002, 1.00000002, 1.00000002,\n",
       "       1.00000002, 1.00000002, 1.00000002, 1.00000002, 1.00000002,\n",
       "       1.00000002, 1.00000002, 1.00000001, 1.00000001, 1.00000001,\n",
       "       1.00000001, 1.00000001, 1.        , 1.        , 1.        ,\n",
       "       1.        , 1.        , 1.        , 1.        , 1.        ,\n",
       "       1.        , 1.        , 1.        , 1.        , 1.        ])"
      ]
     },
     "execution_count": 605,
     "metadata": {},
     "output_type": "execute_result"
    }
   ],
   "source": [
    "seidel_sol = seidel(A,b,x_0)\n",
    "seidel_sol"
   ]
  },
  {
   "cell_type": "code",
   "execution_count": 606,
   "id": "8a667bcf-a0d5-4e4d-bac7-a846183a700a",
   "metadata": {},
   "outputs": [
    {
     "name": "stdout",
     "output_type": "stream",
     "text": [
      "Converge despues de 60 iteraciones.\n"
     ]
    },
    {
     "data": {
      "text/plain": [
       "array([1.0000001, 1.0000001, 1.0000001, 1.0000001, 1.0000001, 1.0000001,\n",
       "       1.0000001, 1.0000001, 1.0000001, 1.0000001, 1.0000001, 1.0000001,\n",
       "       1.0000001, 1.0000001, 1.0000001, 1.0000001, 1.0000001, 1.0000001,\n",
       "       1.0000001, 1.0000001, 1.0000001, 1.0000001, 1.0000001, 1.0000001,\n",
       "       1.0000001, 1.0000001, 1.0000001, 1.0000001, 1.0000001, 1.0000001,\n",
       "       1.0000001, 1.0000001, 1.0000001, 1.0000001, 1.0000001, 1.0000001,\n",
       "       1.0000001, 1.0000001, 1.0000001, 1.0000001, 1.0000001, 1.0000001,\n",
       "       1.0000001, 1.0000001, 1.0000001, 1.0000001, 1.0000001, 1.0000001,\n",
       "       1.0000001, 1.0000001, 1.0000001, 1.0000001, 1.0000001, 1.0000001,\n",
       "       1.0000001, 1.0000001, 1.0000001, 1.0000001, 1.0000001, 1.0000001,\n",
       "       1.0000001, 1.0000001, 1.0000001, 1.0000001, 1.0000001, 1.0000001,\n",
       "       1.0000001, 1.0000001, 1.0000001, 1.0000001, 1.0000001, 1.0000001,\n",
       "       1.0000001, 1.0000001, 1.0000001, 1.0000001, 1.0000001, 1.0000001,\n",
       "       1.0000001, 1.0000001, 1.0000001, 1.0000001, 1.0000001, 1.0000001,\n",
       "       1.0000001, 1.0000001, 1.0000001, 1.0000001, 1.0000001, 1.0000001,\n",
       "       1.0000001, 1.0000001, 1.0000001, 1.0000001, 1.0000001, 1.0000001,\n",
       "       1.0000001, 1.0000001, 1.0000001, 1.0000001], dtype=float32)"
      ]
     },
     "execution_count": 606,
     "metadata": {},
     "output_type": "execute_result"
    }
   ],
   "source": [
    "jor_sol = jor(A,b,x_0)\n",
    "jor_sol"
   ]
  },
  {
   "cell_type": "code",
   "execution_count": 607,
   "id": "5925a97a-09e8-4e77-be0c-70ed5d83d147",
   "metadata": {},
   "outputs": [
    {
     "name": "stdout",
     "output_type": "stream",
     "text": [
      "Converge despues de 30 iteraciones.\n"
     ]
    },
    {
     "data": {
      "text/plain": [
       "array([1., 1., 1., 1., 1., 1., 1., 1., 1., 1., 1., 1., 1., 1., 1., 1., 1.,\n",
       "       1., 1., 1., 1., 1., 1., 1., 1., 1., 1., 1., 1., 1., 1., 1., 1., 1.,\n",
       "       1., 1., 1., 1., 1., 1., 1., 1., 1., 1., 1., 1., 1., 1., 1., 1., 1.,\n",
       "       1., 1., 1., 1., 1., 1., 1., 1., 1., 1., 1., 1., 1., 1., 1., 1., 1.,\n",
       "       1., 1., 1., 1., 1., 1., 1., 1., 1., 1., 1., 1., 1., 1., 1., 1., 1.,\n",
       "       1., 1., 1., 1., 1., 1., 1., 1., 1., 1., 1., 1., 1., 1., 1.])"
      ]
     },
     "execution_count": 607,
     "metadata": {},
     "output_type": "execute_result"
    }
   ],
   "source": [
    "sor_sol = sor(A,b,x_0)\n",
    "sor_sol"
   ]
  },
  {
   "cell_type": "markdown",
   "id": "327ff934-0a9e-487a-95a1-c3144361e35c",
   "metadata": {},
   "source": [
    "##### Por la forma en que está diseñado los algoritmos, Seidel es el que más rápido converge."
   ]
  },
  {
   "cell_type": "code",
   "execution_count": 608,
   "id": "a022932c-d583-4a2a-9765-0322cf5643cb",
   "metadata": {},
   "outputs": [],
   "source": [
    "jacobi_eps = np.linalg.norm(jacobi_sol - x_sol)\n",
    "seidel_eps = np.linalg.norm(seidel_sol - x_sol)\n",
    "jor_eps = np.linalg.norm(jor_sol - x_sol)\n",
    "sor_eps = np.linalg.norm(sor_sol - x_sol)"
   ]
  },
  {
   "cell_type": "code",
   "execution_count": 609,
   "id": "82900f61-e891-49c6-8efc-5ea62ee997d9",
   "metadata": {},
   "outputs": [
    {
     "data": {
      "text/plain": [
       "(2.0888721554953336e-15,\n",
       " 1.3774981009638282e-07,\n",
       " 1.1920928955078125e-06,\n",
       " 7.777234659113134e-10)"
      ]
     },
     "execution_count": 609,
     "metadata": {},
     "output_type": "execute_result"
    }
   ],
   "source": [
    "jacobi_eps, seidel_eps, jor_eps, sor_eps"
   ]
  },
  {
   "cell_type": "markdown",
   "id": "a097ab0d-ce02-4723-ac49-d3b0e1d33b46",
   "metadata": {},
   "source": [
    "####  En términos de error todos parecen ser bastante exactos pero jacobi parece tener el menor error"
   ]
  }
 ],
 "metadata": {
  "kernelspec": {
   "display_name": "Python 3 (ipykernel)",
   "language": "python",
   "name": "python3"
  },
  "language_info": {
   "codemirror_mode": {
    "name": "ipython",
    "version": 3
   },
   "file_extension": ".py",
   "mimetype": "text/x-python",
   "name": "python",
   "nbconvert_exporter": "python",
   "pygments_lexer": "ipython3",
   "version": "3.11.1"
  }
 },
 "nbformat": 4,
 "nbformat_minor": 5
}
