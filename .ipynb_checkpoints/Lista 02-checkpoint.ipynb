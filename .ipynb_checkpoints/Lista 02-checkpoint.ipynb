{
 "cells": [
  {
   "cell_type": "markdown",
   "id": "d2c17de6",
   "metadata": {},
   "source": [
    "Jeyner Arango \n",
    "\n",
    "Oscar Méndez 20402\n",
    "\n",
    "# Lista 02"
   ]
  },
  {
   "cell_type": "code",
   "execution_count": 45,
   "id": "7f0fcddd-0d84-4684-8edc-265d20d18291",
   "metadata": {},
   "outputs": [],
   "source": [
    "import numpy as np\n",
    "import scipy.linalg\n",
    "import matplotlib.pyplot as plt\n",
    "from scipy.linalg import lu_factor, lu_solve, qr"
   ]
  },
  {
   "cell_type": "markdown",
   "id": "0434d92d",
   "metadata": {},
   "source": [
    "## Ejercicio 1"
   ]
  },
  {
   "cell_type": "code",
   "execution_count": 46,
   "id": "616044ef-8cc3-4308-aea6-d876cc1fe0ab",
   "metadata": {},
   "outputs": [
    {
     "name": "stdout",
     "output_type": "stream",
     "text": [
      "A = [[1.         0.5        0.33333333]\n",
      " [0.5        0.33333333 0.25      ]\n",
      " [0.33333333 0.25       0.2       ]]\n",
      "B = [[ 1  1  0  3]\n",
      " [ 2  1 -1  1]\n",
      " [ 3 -1 -1  2]\n",
      " [-1  2  3 -1]]\n",
      "C = [[ 2 -1  0  0]\n",
      " [-1  2 -1  0]\n",
      " [ 0 -1  2 -1]\n",
      " [ 0  0 -1  0]]\n"
     ]
    }
   ],
   "source": [
    "A = np.array([[1/1, 1/2, 1/3],[1/2, 1/3, 1/4], [1/3, 1/4, 1/5]])\n",
    "B = np.array([[1, 1, 0, 3],[2, 1, -1, 1], [3, -1, -1, 2], [-1, 2, 3, -1]])\n",
    "C = np.array([[2, -1, 0, 0],[-1, 2, -1, 0], [0, -1, 2, -1], [0, 0, -1, 0]])\n",
    "print(\"A =\", A)\n",
    "print(\"B =\", B)\n",
    "print(\"C =\", C)"
   ]
  },
  {
   "cell_type": "markdown",
   "id": "46b54114-ba37-4bf7-9f39-446f96f03bc2",
   "metadata": {},
   "source": [
    "### 1.1 PA=LU"
   ]
  },
  {
   "cell_type": "code",
   "execution_count": 97,
   "id": "7d7f8be7-8d84-43a3-945b-a0bdf99a3508",
   "metadata": {},
   "outputs": [],
   "source": [
    "def descomposicion_PA_LU(A):\n",
    "    A = A.astype(float)\n",
    "    n = len(A)\n",
    "    L = np.identity(n)\n",
    "    U = A.copy()\n",
    "    P = np.identity(n)\n",
    "\n",
    "    for k in range(n - 1):\n",
    "        # Encontrar el índice del elemento máximo en la columna k (pivoteo parcial)\n",
    "        max_index = np.argmax(np.abs(U[k:, k])) + k\n",
    "\n",
    "        # Intercambiar filas en la matriz de permutación P\n",
    "        P[[k, max_index]] = P[[max_index, k]]\n",
    "\n",
    "        # Intercambiar filas en la matriz U\n",
    "        U[[k, max_index]] = U[[max_index, k]]\n",
    "\n",
    "        # Realizar eliminación gaussiana en U y actualizar L\n",
    "        for i in range(k + 1, n):\n",
    "            factor = U[i, k] / U[k, k]\n",
    "            L[i, k] = factor\n",
    "            U[i, k:] -= factor * U[k, k:]\n",
    "\n",
    "    return P, L, U"
   ]
  },
  {
   "cell_type": "code",
   "execution_count": 42,
   "id": "3e3877f4-dbc2-4c5a-b096-1925ca5ef544",
   "metadata": {},
   "outputs": [
    {
     "name": "stdout",
     "output_type": "stream",
     "text": [
      "Matriz A:\n",
      "P = [[1. 0. 0.]\n",
      " [0. 0. 1.]\n",
      " [0. 1. 0.]]\n",
      "L = [[1.         0.         0.        ]\n",
      " [0.5        1.         0.        ]\n",
      " [0.33333333 1.         1.        ]]\n",
      "U = [[ 1.          0.5         0.33333333]\n",
      " [ 0.          0.08333333  0.08888889]\n",
      " [ 0.          0.         -0.00555556]]\n",
      "\n",
      "Matriz B:\n",
      "P = [[0. 0. 1. 0.]\n",
      " [0. 0. 0. 1.]\n",
      " [0. 1. 0. 0.]\n",
      " [1. 0. 0. 0.]]\n",
      "L = [[ 1.          0.          0.          0.        ]\n",
      " [ 0.66666667  1.          0.          0.        ]\n",
      " [ 0.33333333  0.8         1.          0.        ]\n",
      " [-0.33333333  1.          0.6         1.        ]]\n",
      "U = [[ 3.00000000e+00 -1.00000000e+00 -1.00000000e+00  2.00000000e+00]\n",
      " [ 0.00000000e+00  1.66666667e+00  2.66666667e+00 -3.33333333e-01]\n",
      " [ 0.00000000e+00  0.00000000e+00 -3.00000000e+00  5.55111512e-17]\n",
      " [ 0.00000000e+00  0.00000000e+00  0.00000000e+00  2.60000000e+00]]\n",
      "\n",
      "Matriz C:\n",
      "P = [[1. 0. 0. 0.]\n",
      " [0. 1. 0. 0.]\n",
      " [0. 0. 1. 0.]\n",
      " [0. 0. 0. 1.]]\n",
      "L = [[ 1.          0.          0.          0.        ]\n",
      " [-0.5         1.          0.          0.        ]\n",
      " [ 0.         -0.66666667  1.          0.        ]\n",
      " [ 0.          0.         -0.75        1.        ]]\n",
      "U = [[ 2.         -1.          0.          0.        ]\n",
      " [ 0.          1.5        -1.          0.        ]\n",
      " [ 0.          0.          1.33333333 -1.        ]\n",
      " [ 0.          0.          0.         -0.75      ]]\n"
     ]
    }
   ],
   "source": [
    "P, L, U = descomposicion_PA_LU(A)\n",
    "print(\"Matriz A:\")\n",
    "print(\"P =\", P)\n",
    "print(\"L =\", L)\n",
    "print(\"U =\", U)\n",
    "\n",
    "P, L, U = descomposicion_PA_LU(B)\n",
    "print(\"\\nMatriz B:\")\n",
    "print(\"P =\", P)\n",
    "print(\"L =\", L)\n",
    "print(\"U =\", U)\n",
    "\n",
    "P, L, U = descomposicion_PA_LU(C)\n",
    "print(\"\\nMatriz C:\")\n",
    "print(\"P =\", P)\n",
    "print(\"L =\", L)\n",
    "print(\"U =\", U)"
   ]
  },
  {
   "cell_type": "markdown",
   "id": "8aa384b4-413a-4aee-9271-9d6b52737e47",
   "metadata": {},
   "source": [
    "### 1.2 Cholesky"
   ]
  },
  {
   "cell_type": "code",
   "execution_count": 5,
   "id": "5bf4b38e-67d5-4be4-ba30-9edcdad8b325",
   "metadata": {},
   "outputs": [],
   "source": [
    "def es_positivo_definida(A):\n",
    "    valores_propios = np.linalg.eigvals(A)\n",
    "    return all(valores_propios > 0)"
   ]
  },
  {
   "cell_type": "code",
   "execution_count": 6,
   "id": "b99a2866-5852-4deb-bc57-cfae999495b2",
   "metadata": {},
   "outputs": [],
   "source": [
    "def descomposicion_cholesky(A):\n",
    "    if not np.allclose(A, A.T):\n",
    "        raise ValueError(\"La matriz no es simétrica\")\n",
    "    if not es_positivo_definida(A):\n",
    "        raise ValueError(\"Matriz A no es positivo definida.\")\n",
    "    n = len(A)\n",
    "    L = np.zeros_like(A, dtype=float)\n",
    "\n",
    "    for i in range(n):\n",
    "        for j in range(i + 1):\n",
    "            suma = sum(L[i, k] * L[j, k] for k in range(j))\n",
    "            if i == j:\n",
    "                L[i, j] = np.sqrt(A[i, i] - suma)\n",
    "            else:\n",
    "                L[i, j] = (A[i, j] - suma) / L[j, j]\n",
    "    return L"
   ]
  },
  {
   "cell_type": "code",
   "execution_count": 44,
   "id": "b83958e9-999e-4605-8669-00d34e92ed77",
   "metadata": {},
   "outputs": [
    {
     "name": "stdout",
     "output_type": "stream",
     "text": [
      "Matriz A:\n",
      "L =  [[1.         0.         0.        ]\n",
      " [0.5        0.28867513 0.        ]\n",
      " [0.33333333 0.28867513 0.0745356 ]]\n"
     ]
    }
   ],
   "source": [
    "print(\"Matriz A:\")\n",
    "print(\"L = \", descomposicion_cholesky(A))"
   ]
  },
  {
   "cell_type": "markdown",
   "id": "44b100d3-5a9d-4918-88d5-8888746e2016",
   "metadata": {},
   "source": [
    "B y C no son positivamente definidas por lo que no admiten Cholesky"
   ]
  },
  {
   "cell_type": "markdown",
   "id": "63e7e898-b5e3-495c-8057-50302b6e4823",
   "metadata": {},
   "source": [
    "### 1.3 QR"
   ]
  },
  {
   "cell_type": "code",
   "execution_count": 80,
   "id": "60eb6578-372c-4e0f-869b-5c7379bce800",
   "metadata": {},
   "outputs": [],
   "source": [
    "def descomposicion_QR(A):\n",
    "    m, n = A.shape\n",
    "    Q = np.eye(m)\n",
    "    R = A.copy()\n",
    "\n",
    "    for j in range(n):\n",
    "        v = R[j:, j].copy()\n",
    "        v[0] += np.sign(v[0]) * np.linalg.norm(v)\n",
    "        v = v / np.linalg.norm(v)\n",
    "\n",
    "        Hj = np.eye(m)\n",
    "        Hj[j:, j:] -= 2.0 * (v[:, np.newaxis] @ v[np.newaxis, :])\n",
    "        \n",
    "        R = Hj @ R\n",
    "        Q = Q @ Hj.T\n",
    "\n",
    "    return Q, R"
   ]
  },
  {
   "cell_type": "code",
   "execution_count": 78,
   "id": "fdd1521c-f25d-4da3-a27f-7b3c106b69dc",
   "metadata": {},
   "outputs": [
    {
     "name": "stdout",
     "output_type": "stream",
     "text": [
      "[0.96362411 0.22237479 0.14824986]\n",
      "[-0.91957127 -0.39292325]\n",
      "[1.]\n",
      "Matriz A:\n",
      "Q = [[-1.  6. -6.]\n",
      " [-2.  5. -4.]\n",
      " [-2.  4. -5.]]\n",
      "R = [[-2.66666667 -1.66666667 -1.23333333]\n",
      " [ 9.83333333  5.66666667  4.05      ]\n",
      " [-9.66666667 -5.58333333 -4.        ]]\n",
      "[ 0.73029674  0.36514837  0.54772256 -0.18257419]\n",
      "[-0.87379811 -0.42221697 -0.24126684]\n",
      "[0.87660581 0.48120916]\n",
      "[-1.]\n",
      "\n",
      "Matriz B:\n",
      "Q = [[ -1.  10. -30.  30.]\n",
      " [ -2.   9. -24.  24.]\n",
      " [ -2.   8. -25.  26.]\n",
      " [ -2.   8. -26.  25.]]\n",
      "R = [[  -9.   -5.   -2.   -7.]\n",
      " [  44.   27.    7.   47.]\n",
      " [-127.  -81.  -29. -138.]\n",
      " [ 131.   78.   25.  141.]]\n",
      "[ 0.9701425  -0.24253563  0.          0.        ]\n",
      "[ 0.97324899 -0.22975292  0.        ]\n",
      "[ 0.97324899 -0.22975292]\n",
      "[1.]\n",
      "\n",
      "Matriz C:\n",
      "Q = [[ -1.  10. -30.  30.]\n",
      " [ -2.   9. -24.  24.]\n",
      " [ -2.   8. -25.  26.]\n",
      " [ -2.   8. -26.  25.]]\n",
      "R = [[  0.  -1.   0.   2.]\n",
      " [ 11.   0.  -1.  -8.]\n",
      " [-36.   7.   0.  25.]\n",
      " [ 36.  -8.   3. -26.]]\n"
     ]
    }
   ],
   "source": [
    "Q, R = descomposicion_QR(A)\n",
    "print(\"Matriz A:\")\n",
    "print(\"Q =\", Q)\n",
    "print(\"R =\", R)\n",
    "\n",
    "Q, R = descomposicion_QR(B)\n",
    "print(\"\\nMatriz B:\")\n",
    "print(\"Q =\", Q)\n",
    "print(\"R =\", R)\n",
    "\n",
    "Q, R = descomposicion_QR(C)\n",
    "print(\"\\nMatriz C:\")\n",
    "print(\"Q =\", Q)\n",
    "print(\"R =\", R)"
   ]
  },
  {
   "cell_type": "markdown",
   "id": "dcfa6178-f343-4886-ba8b-4200f074f7e8",
   "metadata": {},
   "source": [
    "## Ejercicio 2"
   ]
  },
  {
   "cell_type": "code",
   "execution_count": 12,
   "id": "5d79dd06-1a65-48ed-9a00-6cbbdd86a41a",
   "metadata": {},
   "outputs": [],
   "source": [
    "### función matriz dominante\n",
    "def es_dominante(A, tolerancia=1e-6):\n",
    "    A = np.array(A)\n",
    "    num_filas, num_cols = A.shape\n",
    "    for i in range(num_filas):\n",
    "        diagonal = abs(A[i, i])\n",
    "        row_suma = np.sum(np.abs(A[i, :])) - diagonal\n",
    "        if diagonal <= row_suma + tolerancia:\n",
    "            return False\n",
    "    return True"
   ]
  },
  {
   "cell_type": "markdown",
   "id": "7f3dc105-3a65-4e22-b1bb-4d5ba86d8b39",
   "metadata": {},
   "source": [
    "### Metodo Jacobi"
   ]
  },
  {
   "cell_type": "code",
   "execution_count": 13,
   "id": "870e444b-8831-49e7-850c-56124eb69038",
   "metadata": {},
   "outputs": [],
   "source": [
    "def jacobi(A, b, x_0, epsilon=1e-8, iter=500):\n",
    "    #print(\"A =\")\n",
    "    #print(A)\n",
    "    #print(\"b =\")\n",
    "    #print(np.atleast_2d(b).T)\n",
    "    if es_dominante(A) == True:\n",
    "        print(\"calculando...\")\n",
    "    else:\n",
    "        print('Advertencia: La Matriz no es diagonalmente dominante. \\n\\\n",
    "            Existe riesgo de no convergencia')\n",
    "    n = len(b)\n",
    "    x_new = np.zeros_like(x_0, dtype=np.float32)\n",
    "    \n",
    "    D = np.diag(A).astype(np.float32)\n",
    "    R = A.astype(np.float32) - np.diagflat(D).astype(np.float32)\n",
    "\n",
    "    for i in range(iter):\n",
    "        x_old = x_new\n",
    "        x_new = (b - np.dot(R,x_old)) / D\n",
    "        if (np.all(abs(x_old-x_new)) <= epsilon):\n",
    "            print(f\"Converge despues de {i + 1} iteraciones.\")\n",
    "            break\n",
    "    return x_new"
   ]
  },
  {
   "cell_type": "markdown",
   "id": "31ab3d6b-1ecc-437c-88d3-2a5562cda9c9",
   "metadata": {},
   "source": [
    "### Metodo Seidel"
   ]
  },
  {
   "cell_type": "code",
   "execution_count": 14,
   "id": "93da8d25-e60d-4ea9-9612-e896d0c66857",
   "metadata": {},
   "outputs": [],
   "source": [
    "def seidel(A, b, x_0, epsilon=1e-8, iter=5000):\n",
    "    #print(\"A =\")\n",
    "    #print(A)\n",
    "    #print(\"b =\")\n",
    "    #print(np.atleast_2d(b).T)\n",
    "    x = x_0\n",
    "    for it_count in range(iter):\n",
    "        x_new = np.zeros_like(x, dtype=np.float_)\n",
    "        for i in range(A.shape[0]):\n",
    "            s1 = np.dot(A[i, :i], x_new[:i])\n",
    "            s2 = np.dot(A[i, i + 1 :], x[i + 1 :])\n",
    "            x_new[i] = (b[i] - s1 - s2) / A[i, i]\n",
    "        if np.allclose(x, x_new, rtol=epsilon):\n",
    "            print(f\"Converge despues de {it_count + 1} iteraciones.\")\n",
    "            break\n",
    "        x = x_new\n",
    "    return x"
   ]
  },
  {
   "cell_type": "markdown",
   "id": "c6b62865-1e58-4f55-b612-1edd3268311b",
   "metadata": {},
   "source": [
    "### Metodo JOR"
   ]
  },
  {
   "cell_type": "code",
   "execution_count": 15,
   "id": "2adaba4f-2b5d-44d6-841e-f4b7e95cba68",
   "metadata": {},
   "outputs": [],
   "source": [
    "def jor(A, b, x_0, epsilon=1e-8, iter=5000, w=0.5):\n",
    "    if w < 0 or w > 1:\n",
    "        raise ValueError(\"Omega (w) debe estar entre 0 y 1\")\n",
    "    #print(\"A =\")\n",
    "    #print(A)\n",
    "    #print(\"b =\")\n",
    "    #print(np.atleast_2d(b).T)\n",
    "    n = len(b)\n",
    "    x = x_0.copy()\n",
    "    for _ in range(iter):\n",
    "        x_new = np.zeros_like(x, dtype=np.float32)\n",
    "        for i in range(n):\n",
    "            x_new[i] = (1 - w) * x[i] + (w / A[i, i]) * (b[i] - np.dot(A[i, :i], x_new[:i]) - np.dot(A[i, i+1:], x[i+1:]))\n",
    "        if np.linalg.norm(x_new - x) < epsilon:\n",
    "            print(f\"Converge despues de { _ + 1} iteraciones.\")\n",
    "            break\n",
    "        x = x_new\n",
    "    return x"
   ]
  },
  {
   "cell_type": "markdown",
   "id": "45533734-5190-419d-8a83-e22ce1f015a1",
   "metadata": {},
   "source": [
    "### Metodo SOR"
   ]
  },
  {
   "cell_type": "code",
   "execution_count": 16,
   "id": "9c5d0834-a88b-42be-9510-64d9dff171fe",
   "metadata": {},
   "outputs": [],
   "source": [
    "def sor(A, b, x_0, epsilon=1e-8, iter=5000, w=1.25):\n",
    "    if w < 0 or w > 2:\n",
    "        raise ValueError(\"Omega (w) debe estar entre 0 y 2\")\n",
    "    #print(\"A =\")\n",
    "    #print(A)\n",
    "    #print(\"b =\")\n",
    "    #print(np.atleast_2d(b).T)\n",
    "    n = len(b)\n",
    "    x = x_0\n",
    "    for _ in range(iter):\n",
    "        for i in range(n):\n",
    "            x[i] = (1 - w) * x[i] + (w / A[i, i]) * (b[i] - np.dot(A[i, :i], x[:i]) - np.dot(A[i, i+1:], x[i+1:]))\n",
    "        if np.linalg.norm(A @ x - b) < epsilon:\n",
    "            print(f\"Converge despues de { _ + 1} iteraciones.\")\n",
    "            break\n",
    "    return x"
   ]
  },
  {
   "cell_type": "markdown",
   "id": "231394e7-fe1e-4521-bb85-e816e4bcbf39",
   "metadata": {},
   "source": [
    "### Sistema tridiagonal"
   ]
  },
  {
   "cell_type": "code",
   "execution_count": 17,
   "id": "90e16777-d343-4ee5-95f1-76726d407103",
   "metadata": {},
   "outputs": [
    {
     "data": {
      "text/plain": [
       "((100, 100),\n",
       " array([[ 4., -1.,  0., ...,  0.,  0.,  0.],\n",
       "        [-1.,  4., -1., ...,  0.,  0.,  0.],\n",
       "        [ 0., -1.,  4., ...,  0.,  0.,  0.],\n",
       "        ...,\n",
       "        [ 0.,  0.,  0., ...,  4., -1.,  0.],\n",
       "        [ 0.,  0.,  0., ..., -1.,  4., -1.],\n",
       "        [ 0.,  0.,  0., ...,  0., -1.,  4.]]))"
      ]
     },
     "execution_count": 17,
     "metadata": {},
     "output_type": "execute_result"
    }
   ],
   "source": [
    "diagonal_principal = 4 * np.ones(100)\n",
    "diagonal_adyacente = -1 * np.ones(99)\n",
    "A = np.diag(diagonal_principal) + np.diag(diagonal_adyacente, k=1) + np.diag(diagonal_adyacente, k=-1)\n",
    "A.shape, A"
   ]
  },
  {
   "cell_type": "code",
   "execution_count": 18,
   "id": "41cd20b9-82ba-4d03-a0ce-f68d484d8e33",
   "metadata": {},
   "outputs": [
    {
     "data": {
      "text/plain": [
       "((100,),\n",
       " array([3, 2, 2, 2, 2, 2, 2, 2, 2, 2, 2, 2, 2, 2, 2, 2, 2, 2, 2, 2, 2, 2,\n",
       "        2, 2, 2, 2, 2, 2, 2, 2, 2, 2, 2, 2, 2, 2, 2, 2, 2, 2, 2, 2, 2, 2,\n",
       "        2, 2, 2, 2, 2, 2, 2, 2, 2, 2, 2, 2, 2, 2, 2, 2, 2, 2, 2, 2, 2, 2,\n",
       "        2, 2, 2, 2, 2, 2, 2, 2, 2, 2, 2, 2, 2, 2, 2, 2, 2, 2, 2, 2, 2, 2,\n",
       "        2, 2, 2, 2, 2, 2, 2, 2, 2, 2, 2, 3]))"
      ]
     },
     "execution_count": 18,
     "metadata": {},
     "output_type": "execute_result"
    }
   ],
   "source": [
    "b = np.concatenate(([3], np.full(98, 2), [3]))\n",
    "b.shape, b"
   ]
  },
  {
   "cell_type": "code",
   "execution_count": 19,
   "id": "0bc77c03-8707-4a65-b33e-623386818c4b",
   "metadata": {},
   "outputs": [
    {
     "data": {
      "text/plain": [
       "array([ 96.,   4.,  94.,  74.,  27.,  56.,  62.,  13.,  48.,  11.,  30.,\n",
       "        13.,  14.,  61.,  47.,  81.,  22.,  53.,  46.,  35.,  81.,  85.,\n",
       "        66.,   3.,  58.,  88.,  70.,  50.,  59.,   8.,  38.,  43.,  81.,\n",
       "       100.,   5.,  68.,  95.,  10.,  75.,   6.,  87.,  17.,  72.,  45.,\n",
       "        18.,  50.,  81.,  74.,  45.,  47.,  79.,  15.,  58.,  79.,  33.,\n",
       "         5.,  38.,  38.,  35.,  88.,  77.,  27.,  93.,   3.,  44.,  13.,\n",
       "        92.,  18.,  61.,  40.,  34.,  35.,   3.,  78.,   9.,  98.,  53.,\n",
       "        61.,  31.,  75.,  25.,  22.,  98.,  58.,  25.,   9.,  22.,   7.,\n",
       "        34.,  97.,  47.,  57.,  85.,  88.,  71.,  60.,   8.,  90.,  59.,\n",
       "         7.])"
      ]
     },
     "execution_count": 19,
     "metadata": {},
     "output_type": "execute_result"
    }
   ],
   "source": [
    "x_0 = np.round(np.random.rand(100) * 100,0)\n",
    "x_0"
   ]
  },
  {
   "cell_type": "code",
   "execution_count": 20,
   "id": "cfb8bfce-a556-4097-a963-15c74e1e952f",
   "metadata": {},
   "outputs": [
    {
     "data": {
      "text/plain": [
       "array([1., 1., 1., 1., 1., 1., 1., 1., 1., 1., 1., 1., 1., 1., 1., 1., 1.,\n",
       "       1., 1., 1., 1., 1., 1., 1., 1., 1., 1., 1., 1., 1., 1., 1., 1., 1.,\n",
       "       1., 1., 1., 1., 1., 1., 1., 1., 1., 1., 1., 1., 1., 1., 1., 1., 1.,\n",
       "       1., 1., 1., 1., 1., 1., 1., 1., 1., 1., 1., 1., 1., 1., 1., 1., 1.,\n",
       "       1., 1., 1., 1., 1., 1., 1., 1., 1., 1., 1., 1., 1., 1., 1., 1., 1.,\n",
       "       1., 1., 1., 1., 1., 1., 1., 1., 1., 1., 1., 1., 1., 1., 1.])"
      ]
     },
     "execution_count": 20,
     "metadata": {},
     "output_type": "execute_result"
    }
   ],
   "source": [
    "x_sol = x_exact = np.ones(100)\n",
    "x_sol"
   ]
  },
  {
   "cell_type": "code",
   "execution_count": 21,
   "id": "e686c6c5-4a04-4068-b756-21a8b9b4eec4",
   "metadata": {},
   "outputs": [
    {
     "name": "stdout",
     "output_type": "stream",
     "text": [
      "calculando...\n",
      "Converge despues de 52 iteraciones.\n"
     ]
    },
    {
     "data": {
      "text/plain": [
       "array([1., 1., 1., 1., 1., 1., 1., 1., 1., 1., 1., 1., 1., 1., 1., 1., 1.,\n",
       "       1., 1., 1., 1., 1., 1., 1., 1., 1., 1., 1., 1., 1., 1., 1., 1., 1.,\n",
       "       1., 1., 1., 1., 1., 1., 1., 1., 1., 1., 1., 1., 1., 1., 1., 1., 1.,\n",
       "       1., 1., 1., 1., 1., 1., 1., 1., 1., 1., 1., 1., 1., 1., 1., 1., 1.,\n",
       "       1., 1., 1., 1., 1., 1., 1., 1., 1., 1., 1., 1., 1., 1., 1., 1., 1.,\n",
       "       1., 1., 1., 1., 1., 1., 1., 1., 1., 1., 1., 1., 1., 1., 1.])"
      ]
     },
     "execution_count": 21,
     "metadata": {},
     "output_type": "execute_result"
    }
   ],
   "source": [
    "jacobi_sol = jacobi(A,b,x_0)\n",
    "jacobi_sol"
   ]
  },
  {
   "cell_type": "code",
   "execution_count": 22,
   "id": "5e276c6d-5f5f-4bb4-b63f-3cafa59083bd",
   "metadata": {},
   "outputs": [
    {
     "name": "stdout",
     "output_type": "stream",
     "text": [
      "Converge despues de 21 iteraciones.\n"
     ]
    },
    {
     "data": {
      "text/plain": [
       "array([1.00000001, 1.00000001, 1.00000001, 1.00000001, 1.00000001,\n",
       "       1.00000002, 1.00000002, 1.00000002, 1.00000002, 1.00000002,\n",
       "       1.00000002, 1.00000002, 1.00000002, 1.00000001, 1.00000001,\n",
       "       1.00000001, 1.00000001, 1.00000001, 1.00000002, 1.00000002,\n",
       "       1.00000002, 1.00000002, 1.00000002, 1.00000001, 1.00000001,\n",
       "       1.00000001, 1.00000001, 1.00000001, 1.00000001, 1.00000001,\n",
       "       1.00000001, 1.00000001, 1.00000002, 1.00000002, 1.00000002,\n",
       "       1.00000002, 1.00000001, 1.00000001, 1.00000001, 1.00000001,\n",
       "       1.00000001, 1.00000001, 1.00000001, 1.00000001, 1.00000001,\n",
       "       1.00000001, 1.00000001, 1.00000001, 1.00000001, 1.00000001,\n",
       "       1.00000001, 1.00000001, 1.00000001, 1.00000001, 1.00000001,\n",
       "       1.00000001, 1.00000001, 1.00000001, 1.00000001, 1.00000001,\n",
       "       1.00000001, 1.00000001, 1.00000001, 1.00000001, 1.00000001,\n",
       "       1.00000001, 1.00000001, 1.00000001, 1.00000001, 1.00000001,\n",
       "       1.00000001, 1.00000001, 1.00000001, 1.00000001, 1.00000001,\n",
       "       1.00000001, 1.00000002, 1.00000002, 1.00000002, 1.00000002,\n",
       "       1.00000002, 1.00000002, 1.00000002, 1.00000001, 1.00000001,\n",
       "       1.00000001, 1.00000001, 1.        , 1.        , 1.        ,\n",
       "       1.        , 1.        , 1.        , 1.        , 1.        ,\n",
       "       1.        , 1.        , 1.        , 1.        , 1.        ])"
      ]
     },
     "execution_count": 22,
     "metadata": {},
     "output_type": "execute_result"
    }
   ],
   "source": [
    "seidel_sol = seidel(A,b,x_0)\n",
    "seidel_sol"
   ]
  },
  {
   "cell_type": "code",
   "execution_count": 23,
   "id": "8a667bcf-a0d5-4e4d-bac7-a846183a700a",
   "metadata": {},
   "outputs": [
    {
     "name": "stdout",
     "output_type": "stream",
     "text": [
      "Converge despues de 59 iteraciones.\n"
     ]
    },
    {
     "data": {
      "text/plain": [
       "array([1.0000001, 1.0000001, 1.0000001, 1.0000001, 1.0000001, 1.0000001,\n",
       "       1.0000001, 1.0000001, 1.0000001, 1.0000001, 1.0000001, 1.0000001,\n",
       "       1.0000001, 1.0000001, 1.0000001, 1.0000001, 1.0000001, 1.0000001,\n",
       "       1.0000001, 1.0000001, 1.0000001, 1.0000001, 1.0000001, 1.0000001,\n",
       "       1.0000001, 1.0000001, 1.0000001, 1.0000001, 1.0000001, 1.0000001,\n",
       "       1.0000001, 1.0000001, 1.0000001, 1.0000001, 1.0000001, 1.0000001,\n",
       "       1.0000001, 1.0000001, 1.0000001, 1.0000001, 1.0000001, 1.0000001,\n",
       "       1.0000001, 1.0000001, 1.0000001, 1.0000001, 1.0000001, 1.0000001,\n",
       "       1.0000001, 1.0000001, 1.0000001, 1.0000001, 1.0000001, 1.0000001,\n",
       "       1.0000001, 1.0000001, 1.0000001, 1.0000001, 1.0000001, 1.0000001,\n",
       "       1.0000001, 1.0000001, 1.0000001, 1.0000001, 1.0000001, 1.0000001,\n",
       "       1.0000001, 1.0000001, 1.0000001, 1.0000001, 1.0000001, 1.0000001,\n",
       "       1.0000001, 1.0000001, 1.0000001, 1.0000001, 1.0000001, 1.0000001,\n",
       "       1.0000001, 1.0000001, 1.0000001, 1.0000001, 1.0000001, 1.0000001,\n",
       "       1.0000001, 1.0000001, 1.0000001, 1.0000001, 1.0000001, 1.0000001,\n",
       "       1.0000001, 1.0000001, 1.0000001, 1.0000001, 1.0000001, 1.0000001,\n",
       "       1.0000001, 1.0000001, 1.0000001, 1.0000001], dtype=float32)"
      ]
     },
     "execution_count": 23,
     "metadata": {},
     "output_type": "execute_result"
    }
   ],
   "source": [
    "jor_sol = jor(A,b,x_0)\n",
    "jor_sol"
   ]
  },
  {
   "cell_type": "code",
   "execution_count": 24,
   "id": "5925a97a-09e8-4e77-be0c-70ed5d83d147",
   "metadata": {},
   "outputs": [
    {
     "name": "stdout",
     "output_type": "stream",
     "text": [
      "Converge despues de 30 iteraciones.\n"
     ]
    },
    {
     "data": {
      "text/plain": [
       "array([1., 1., 1., 1., 1., 1., 1., 1., 1., 1., 1., 1., 1., 1., 1., 1., 1.,\n",
       "       1., 1., 1., 1., 1., 1., 1., 1., 1., 1., 1., 1., 1., 1., 1., 1., 1.,\n",
       "       1., 1., 1., 1., 1., 1., 1., 1., 1., 1., 1., 1., 1., 1., 1., 1., 1.,\n",
       "       1., 1., 1., 1., 1., 1., 1., 1., 1., 1., 1., 1., 1., 1., 1., 1., 1.,\n",
       "       1., 1., 1., 1., 1., 1., 1., 1., 1., 1., 1., 1., 1., 1., 1., 1., 1.,\n",
       "       1., 1., 1., 1., 1., 1., 1., 1., 1., 1., 1., 1., 1., 1., 1.])"
      ]
     },
     "execution_count": 24,
     "metadata": {},
     "output_type": "execute_result"
    }
   ],
   "source": [
    "sor_sol = sor(A,b,x_0)\n",
    "sor_sol"
   ]
  },
  {
   "cell_type": "markdown",
   "id": "327ff934-0a9e-487a-95a1-c3144361e35c",
   "metadata": {},
   "source": [
    "##### Por la forma en que está diseñado los algoritmos, Seidel es el que más rápido converge."
   ]
  },
  {
   "cell_type": "code",
   "execution_count": 25,
   "id": "a022932c-d583-4a2a-9765-0322cf5643cb",
   "metadata": {},
   "outputs": [],
   "source": [
    "jacobi_eps = np.linalg.norm(jacobi_sol - x_sol)\n",
    "seidel_eps = np.linalg.norm(seidel_sol - x_sol)\n",
    "jor_eps = np.linalg.norm(jor_sol - x_sol)\n",
    "sor_eps = np.linalg.norm(sor_sol - x_sol)"
   ]
  },
  {
   "cell_type": "code",
   "execution_count": 26,
   "id": "82900f61-e891-49c6-8efc-5ea62ee997d9",
   "metadata": {},
   "outputs": [
    {
     "data": {
      "text/plain": [
       "(2.0888721554953336e-15,\n",
       " 1.2907814673839532e-07,\n",
       " 1.1920928955078125e-06,\n",
       " 1.2676369559122253e-09)"
      ]
     },
     "execution_count": 26,
     "metadata": {},
     "output_type": "execute_result"
    }
   ],
   "source": [
    "jacobi_eps, seidel_eps, jor_eps, sor_eps"
   ]
  },
  {
   "cell_type": "markdown",
   "id": "a097ab0d-ce02-4723-ac49-d3b0e1d33b46",
   "metadata": {},
   "source": [
    "En términos de error todos parecen ser bastante exactos pero jacobi parece tener el menor error"
   ]
  },
  {
   "cell_type": "markdown",
   "id": "6342c780-019f-4e5f-8b38-3d030b20b279",
   "metadata": {},
   "source": [
    "## Ejercicio 3\n",
    "### Inciso a)"
   ]
  },
  {
   "cell_type": "code",
   "execution_count": 27,
   "id": "99a5f718-f285-48bc-8269-8770b2f0b3f6",
   "metadata": {},
   "outputs": [
    {
     "data": {
      "image/png": "[encoded data removed]",
      "text/plain": [
       "<Figure size 432x288 with 1 Axes>"
      ]
     },
     "metadata": {
      "needs_background": "light"
     },
     "output_type": "display_data"
    },
    {
     "data": {
      "text/plain": [
       "{2: 19.333333333333336,\n",
       " 3: 526.1588210797212,\n",
       " 5: 480849.1169979506,\n",
       " 10: 16333640022240.15,\n",
       " 15: 4.684590819309408e+17,\n",
       " 20: 2.3649314699982095e+18,\n",
       " 25: 2.3570525714132014e+18}"
      ]
     },
     "execution_count": 27,
     "metadata": {},
     "output_type": "execute_result"
    }
   ],
   "source": [
    "results_2a = {}\n",
    "for n in [2, 3, 5, 10, 15, 20, 25]:\n",
    "    H = np.array([[1/(i+j -1) for j in range(1, n+1)] for i in range(1, n+1)])\n",
    "    results_2a[n] = np.linalg.norm(H) * np.linalg.norm(np.linalg.inv(H))\n",
    "plt.plot(results_2a.keys(), results_2a.values())\n",
    "plt.show()\n",
    "results_2a"
   ]
  },
  {
   "cell_type": "markdown",
   "id": "d92b4fe4-ea46-41ed-848a-08a5358525f6",
   "metadata": {},
   "source": [
    "### Inciso b)"
   ]
  },
  {
   "cell_type": "code",
   "execution_count": 28,
   "id": "0b7c99e5-2d4a-490f-810d-575247a4d146",
   "metadata": {},
   "outputs": [],
   "source": [
    "f = lambda x: np.sum([np.sin((k+1)*np.pi*x) for k in range(17)], axis=0)\n",
    "\n",
    "def compare_aprroximation(f, f_approx, num_vals=1000):\n",
    "    x_vals = np.linspace(0, 1, 1000)\n",
    "    approximation = f_approx(x_vals)\n",
    "    f_vals = f(x_vals)\n",
    "\n",
    "    rmse = np.sqrt(((f_vals - approximation) ** 2).mean())\n",
    "    mae = np.abs(f_vals - approximation).mean()\n",
    "\n",
    "    plt.figure(figsize=(9, 5))\n",
    "    plt.plot(x_vals, f(x_vals), label='f(x)')\n",
    "    plt.plot(x_vals, approximation, label='Approximacion')\n",
    "    plt.xlabel('x')\n",
    "    plt.ylabel('y')\n",
    "    plt.legend()\n",
    "    plt.title('Aproximación de f(x)')\n",
    "    plt.show()\n",
    "\n",
    "    return rmse, mae"
   ]
  },
  {
   "cell_type": "code",
   "execution_count": 112,
   "id": "8d158c9c-ff33-4ef1-9c38-8a50865e2a36",
   "metadata": {},
   "outputs": [
    {
     "data": {
      "image/png": "[encoded data removed]",
      "text/plain": [
       "<Figure size 648x360 with 1 Axes>"
      ]
     },
     "metadata": {
      "needs_background": "light"
     },
     "output_type": "display_data"
    },
    {
     "name": "stdout",
     "output_type": "stream",
     "text": [
      "RMSE: 0.8366335466934305\n",
      "MAE: 0.6261505190589541\n"
     ]
    }
   ],
   "source": [
    "def approximate_function_lu(f, n):\n",
    "    H = np.array([[1/(i+j -1) for j in range(1, n+1)] for i in range(1, n+1)])\n",
    "    b = np.zeros(n)\n",
    "\n",
    "    for i in range(n):\n",
    "        b[i] = np.trapz(f(np.linspace(0, 1, 1000)) * np.linspace(0, 1, 1000)**i, dx=1/1000)\n",
    "\n",
    "    # Realizar descomposición LU\n",
    "    lu, piv = lu_factor(H)\n",
    "\n",
    "    # Resolver el sistema de ecuaciones utilizando la descomposición LU\n",
    "    c = lu_solve((lu, piv), b)\n",
    "    \n",
    "    def f_approx(x):\n",
    "        return sum([c[i] * (x**i) for i in range(n)])\n",
    "    \n",
    "    return f_approx\n",
    "\n",
    "f_approx = approximate_function_lu(f, 20)\n",
    "rmse, mae = compare_aprroximation(f, f_approx)\n",
    "\n",
    "print(\"RMSE:\", rmse)\n",
    "print(\"MAE:\", mae)"
   ]
  },
  {
   "cell_type": "markdown",
   "id": "dc60e535-36f5-4756-ad01-e78b08e5e048",
   "metadata": {},
   "source": [
    "### Inciso c)"
   ]
  },
  {
   "cell_type": "code",
   "execution_count": 81,
   "id": "ed752bd1-7a8e-4f6a-b951-5681055be092",
   "metadata": {},
   "outputs": [
    {
     "data": {
      "image/png": "[encoded data removed]",
      "text/plain": [
       "<Figure size 648x360 with 1 Axes>"
      ]
     },
     "metadata": {
      "needs_background": "light"
     },
     "output_type": "display_data"
    },
    {
     "name": "stdout",
     "output_type": "stream",
     "text": [
      "RMSE: 0.8949640409655473\n",
      "MAE: 0.6760682329948214\n"
     ]
    }
   ],
   "source": [
    "def approximate_function_qr(f, n):\n",
    "    H = np.array([[1/(i+j -1) for j in range(1, n+1)] for i in range(1, n+1)])\n",
    "    b = np.zeros(n)\n",
    "\n",
    "    for i in range(n):\n",
    "        b[i] = np.trapz(f(np.linspace(0, 1, 1000)) * np.linspace(0, 1, 1000)**i, dx=1/1000)\n",
    "\n",
    "    Q, R = descomposicion_QR(H)\n",
    "\n",
    "    c = np.linalg.solve(R, np.dot(Q.T, b))\n",
    "    \n",
    "    def f_approx(x):\n",
    "        return sum([c[i] * (x**i) for i in range(n)])\n",
    "    \n",
    "    return f_approx\n",
    "\n",
    "f_approx = approximate_function_qr(f, 20)\n",
    "rmse, mae = compare_aprroximation(f, f_approx)\n",
    "\n",
    "print(\"RMSE:\", rmse)\n",
    "print(\"MAE:\", mae)"
   ]
  },
  {
   "cell_type": "markdown",
   "id": "3352b923-02d3-4434-a83f-0b2fa8847d62",
   "metadata": {},
   "source": [
    "Para este caso con n=20, es mejor la apoximacion con QR."
   ]
  }
 ],
 "metadata": {
  "kernelspec": {
   "display_name": "Python 3 (ipykernel)",
   "language": "python",
   "name": "python3"
  },
  "language_info": {
   "codemirror_mode": {
    "name": "ipython",
    "version": 3
   },
   "file_extension": ".py",
   "mimetype": "text/x-python",
   "name": "python",
   "nbconvert_exporter": "python",
   "pygments_lexer": "ipython3",
   "version": "3.9.7"
  }
 },
 "nbformat": 4,
 "nbformat_minor": 5
}
