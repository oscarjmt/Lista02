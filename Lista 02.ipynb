{
 "cells": [
  {
   "cell_type": "markdown",
   "id": "7581f5bd",
   "metadata": {},
   "source": [
    "Jeyner Arango 201106\n",
    "\n",
    "Oscar Méndez 20402\n",
    "\n",
    "# Lista 02"
   ]
  },
  {
   "cell_type": "code",
   "execution_count": null,
   "id": "70ae231e",
   "metadata": {},
   "outputs": [],
   "source": [
    "import numpy as np\n",
    "import matplotlib.pyplot as plt\n",
    "from scipy.linalg import lu_factor, lu_solve, qr"
   ]
  },
  {
   "cell_type": "markdown",
   "id": "0f994f23",
   "metadata": {},
   "source": [
    "## Ejercicio 1"
   ]
  },
  {
   "cell_type": "code",
   "execution_count": null,
   "id": "3570e7d2",
   "metadata": {},
   "outputs": [],
   "source": []
  },
  {
   "cell_type": "markdown",
   "id": "b282608a",
   "metadata": {},
   "source": [
    "## Ejercicio 2"
   ]
  },
  {
   "cell_type": "code",
   "execution_count": null,
   "id": "cabbb050",
   "metadata": {},
   "outputs": [],
   "source": []
  },
  {
   "cell_type": "markdown",
   "id": "cc72ae3c",
   "metadata": {},
   "source": [
    "## Ejercicio 3"
   ]
  },
  {
   "cell_type": "markdown",
   "id": "3f12046c",
   "metadata": {},
   "source": [
    "### Inciso a)"
   ]
  },
  {
   "cell_type": "code",
   "execution_count": null,
   "id": "63931be4",
   "metadata": {},
   "outputs": [],
   "source": [
    "results_2a = {}\n",
    "for n in [2, 3, 5, 10, 15, 20, 25]:\n",
    "    H = np.array([[1/(i+j -1) for j in range(1, n+1)] for i in range(1, n+1)])\n",
    "    results_2a[n] = np.linalg.norm(H) * np.linalg.norm(np.linalg.inv(H))\n",
    "plt.plot(results_2a.keys(), results_2a.values())\n",
    "plt.show()\n",
    "results_2a"
   ]
  },
  {
   "cell_type": "markdown",
   "id": "25df37b3",
   "metadata": {},
   "source": [
    "### Inciso b)"
   ]
  },
  {
   "cell_type": "code",
   "execution_count": 45,
   "id": "5ff0adb4",
   "metadata": {},
   "outputs": [],
   "source": [
    "f = lambda x: np.sum([np.sin((k+1)*np.pi*x) for k in range(17)], axis=0)\n",
    "\n",
    "def compare_aprroximation(f, f_approx, num_vals=1000):\n",
    "    x_vals = np.linspace(0, 1, 1000)\n",
    "    approximation = f_approx(x_vals)\n",
    "    f_vals = f(x_vals)\n",
    "\n",
    "    rmse = np.sqrt(((f_vals - approximation) ** 2).mean())\n",
    "    mae = np.abs(f_vals - approximation).mean()\n",
    "\n",
    "    plt.figure(figsize=(9, 5))\n",
    "    plt.plot(x_vals, f(x_vals), label='f(x)')\n",
    "    plt.plot(x_vals, approximation, label='Approximacion')\n",
    "    plt.xlabel('x')\n",
    "    plt.ylabel('y')\n",
    "    plt.legend()\n",
    "    plt.title('Aproximación de f(x)')\n",
    "    plt.show()\n",
    "\n",
    "    return rmse, mae"
   ]
  },
  {
   "cell_type": "code",
   "execution_count": 1,
   "id": "afd081e9",
   "metadata": {},
   "outputs": [
    {
     "ename": "NameError",
     "evalue": "name 'f' is not defined",
     "output_type": "error",
     "traceback": [
      "\u001b[1;31m---------------------------------------------------------------------------\u001b[0m",
      "\u001b[1;31mNameError\u001b[0m                                 Traceback (most recent call last)",
      "\u001b[1;32m~\\AppData\\Local\\Temp/ipykernel_22020/3518978848.py\u001b[0m in \u001b[0;36m<module>\u001b[1;34m\u001b[0m\n\u001b[0;32m     17\u001b[0m     \u001b[1;32mreturn\u001b[0m \u001b[0mf_approx\u001b[0m\u001b[1;33m\u001b[0m\u001b[1;33m\u001b[0m\u001b[0m\n\u001b[0;32m     18\u001b[0m \u001b[1;33m\u001b[0m\u001b[0m\n\u001b[1;32m---> 19\u001b[1;33m \u001b[0mf_approx\u001b[0m \u001b[1;33m=\u001b[0m \u001b[0mapproximate_function_lu\u001b[0m\u001b[1;33m(\u001b[0m\u001b[0mf\u001b[0m\u001b[1;33m,\u001b[0m \u001b[1;36m20\u001b[0m\u001b[1;33m)\u001b[0m\u001b[1;33m\u001b[0m\u001b[1;33m\u001b[0m\u001b[0m\n\u001b[0m\u001b[0;32m     20\u001b[0m \u001b[0mrmse\u001b[0m\u001b[1;33m,\u001b[0m \u001b[0mmae\u001b[0m \u001b[1;33m=\u001b[0m \u001b[0mcompare_aprroximation\u001b[0m\u001b[1;33m(\u001b[0m\u001b[0mf\u001b[0m\u001b[1;33m,\u001b[0m \u001b[0mf_approx\u001b[0m\u001b[1;33m)\u001b[0m\u001b[1;33m\u001b[0m\u001b[1;33m\u001b[0m\u001b[0m\n\u001b[0;32m     21\u001b[0m \u001b[1;33m\u001b[0m\u001b[0m\n",
      "\u001b[1;31mNameError\u001b[0m: name 'f' is not defined"
     ]
    }
   ],
   "source": [
    "def approximate_function_lu(f, n):\n",
    "    A = np.array([[1/(i+j -1) for j in range(1, n+1)] for i in range(1, n+1)])\n",
    "    b = np.zeros(n)\n",
    "\n",
    "    for i in range(n):\n",
    "        b[i] = np.trapz(f(np.linspace(0, 1, 1000)) * np.linspace(0, 1, 1000)**i, dx=1/1000)\n",
    "\n",
    "    # Realizar descomposición LU\n",
    "    lu, piv = lu_factor(A)\n",
    "\n",
    "    # Resolver el sistema de ecuaciones utilizando la descomposición LU\n",
    "    c = lu_solve((lu, piv), b)\n",
    "    \n",
    "    def f_approx(x):\n",
    "        return sum([c[i] * (x**i) for i in range(n)])\n",
    "    \n",
    "    return f_approx\n",
    "\n",
    "f_approx = approximate_function_lu(f, 20)\n",
    "rmse, mae = compare_aprroximation(f, f_approx)\n",
    "\n",
    "print(\"RMSE:\", rmse)\n",
    "print(\"MAE:\", mae)"
   ]
  },
  {
   "cell_type": "markdown",
   "id": "1fa88667",
   "metadata": {},
   "source": [
    "### Inciso c)"
   ]
  },
  {
   "cell_type": "code",
   "execution_count": 46,
   "id": "5b06ded1",
   "metadata": {},
   "outputs": [
    {
     "data": {
      "image/png": "[encoded data removed]",
      "text/plain": [
       "<Figure size 648x360 with 1 Axes>"
      ]
     },
     "metadata": {
      "needs_background": "light"
     },
     "output_type": "display_data"
    },
    {
     "name": "stdout",
     "output_type": "stream",
     "text": [
      "RMSE: 0.8338560996617813\n",
      "MAE: 0.6295924863908618\n"
     ]
    }
   ],
   "source": [
    "def approximate_function_qr(f, n):\n",
    "    A = np.array([[1/(i+j -1) for j in range(1, n+1)] for i in range(1, n+1)])\n",
    "    b = np.zeros(n)\n",
    "\n",
    "    for i in range(n):\n",
    "        b[i] = np.trapz(f(np.linspace(0, 1, 1000)) * np.linspace(0, 1, 1000)**i, dx=1/1000)\n",
    "\n",
    "    Q, R = qr(A)\n",
    "\n",
    "    c = np.linalg.solve(R, np.dot(Q.T, b))\n",
    "    \n",
    "    def f_approx(x):\n",
    "        return sum([c[i] * (x**i) for i in range(n)])\n",
    "    \n",
    "    return f_approx\n",
    "\n",
    "f_approx = approximate_function_qr(f, 20)\n",
    "rmse, mae = compare_aprroximation(f, f_approx)\n",
    "\n",
    "print(\"RMSE:\", rmse)\n",
    "print(\"MAE:\", mae)"
   ]
  },
  {
   "cell_type": "markdown",
   "id": "86e38d69",
   "metadata": {},
   "source": [
    "Para este caso con n=20, es mejor la apoximacion con QR."
   ]
  },
  {
   "cell_type": "code",
   "execution_count": null,
   "id": "4c454016",
   "metadata": {},
   "outputs": [],
   "source": []
  }
 ],
 "metadata": {
  "kernelspec": {
   "display_name": "Python 3 (ipykernel)",
   "language": "python",
   "name": "python3"
  },
  "language_info": {
   "codemirror_mode": {
    "name": "ipython",
    "version": 3
   },
   "file_extension": ".py",
   "mimetype": "text/x-python",
   "name": "python",
   "nbconvert_exporter": "python",
   "pygments_lexer": "ipython3",
   "version": "3.9.7"
  }
 },
 "nbformat": 4,
 "nbformat_minor": 5
}
